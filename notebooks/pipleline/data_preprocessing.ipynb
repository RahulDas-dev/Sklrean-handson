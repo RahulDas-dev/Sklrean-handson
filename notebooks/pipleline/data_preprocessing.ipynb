{
 "cells": [
  {
   "cell_type": "markdown",
   "metadata": {},
   "source": [
    "### Import Packages "
   ]
  },
  {
   "cell_type": "code",
   "execution_count": 1,
   "metadata": {},
   "outputs": [],
   "source": [
    "import os\n",
    "import math\n",
    "import random\n",
    "from pprint import pprint\n",
    "\n",
    "import numpy\n",
    "import pandas as pd\n",
    "import matplotlib.pyplot as plt\n",
    "import seaborn as sns\n",
    "\n",
    "from sklearn import datasets\n",
    "from sklearn.preprocessing import (\n",
    "    FunctionTransformer,\n",
    "    StandardScaler,\n",
    "    PowerTransformer,\n",
    "    MinMaxScaler,\n",
    ")\n",
    "\n",
    "from tqdm.notebook import tqdm"
   ]
  },
  {
   "cell_type": "markdown",
   "metadata": {},
   "source": [
    "### Basic Notebook seetings and Package Config"
   ]
  },
  {
   "cell_type": "code",
   "execution_count": 2,
   "metadata": {},
   "outputs": [],
   "source": [
    "sns.set_theme(style=\"darkgrid\")\n",
    "pd.set_option(\"display.max_colwidth\", 1000)\n",
    "random.seed(100)\n",
    "tqdm.pandas()"
   ]
  },
  {
   "cell_type": "markdown",
   "metadata": {},
   "source": [
    "### Adding SRC directory to sys path "
   ]
  },
  {
   "cell_type": "code",
   "execution_count": 3,
   "metadata": {},
   "outputs": [
    {
     "name": "stdout",
     "output_type": "stream",
     "text": [
      "parent directory D:\\codespace\\python\\datascience_ml_handson\n"
     ]
    }
   ],
   "source": [
    "parent_directory = os.path.abspath(\n",
    "    \"../..\"\n",
    ")  # Should Point to root directory /Project Directory\n",
    "os.chdir(parent_directory)\n",
    "\n",
    "print(f\"parent directory {parent_directory}\")\n",
    "\n",
    "datset_dir = os.path.join(parent_directory, \"data\")\n",
    "\n",
    "if os.path.isdir(datset_dir) is False:\n",
    "    raise NotADirectoryError(f\"Directory {datset_dir} not valid\")"
   ]
  },
  {
   "cell_type": "markdown",
   "metadata": {},
   "source": [
    "### Dataset Loading"
   ]
  },
  {
   "cell_type": "code",
   "execution_count": 4,
   "metadata": {},
   "outputs": [
    {
     "name": "stdout",
     "output_type": "stream",
     "text": [
      "dataset (9551, 21)\n"
     ]
    },
    {
     "data": {
      "text/html": [
       "<div>\n",
       "<style scoped>\n",
       "    .dataframe tbody tr th:only-of-type {\n",
       "        vertical-align: middle;\n",
       "    }\n",
       "\n",
       "    .dataframe tbody tr th {\n",
       "        vertical-align: top;\n",
       "    }\n",
       "\n",
       "    .dataframe thead th {\n",
       "        text-align: right;\n",
       "    }\n",
       "</style>\n",
       "<table border=\"1\" class=\"dataframe\">\n",
       "  <thead>\n",
       "    <tr style=\"text-align: right;\">\n",
       "      <th></th>\n",
       "      <th>Restaurant ID</th>\n",
       "      <th>Restaurant Name</th>\n",
       "      <th>Country Code</th>\n",
       "      <th>City</th>\n",
       "      <th>Address</th>\n",
       "      <th>Locality</th>\n",
       "      <th>Locality Verbose</th>\n",
       "      <th>Longitude</th>\n",
       "      <th>Latitude</th>\n",
       "      <th>Cuisines</th>\n",
       "      <th>...</th>\n",
       "      <th>Currency</th>\n",
       "      <th>Has Table booking</th>\n",
       "      <th>Has Online delivery</th>\n",
       "      <th>Is delivering now</th>\n",
       "      <th>Switch to order menu</th>\n",
       "      <th>Price range</th>\n",
       "      <th>Aggregate rating</th>\n",
       "      <th>Rating color</th>\n",
       "      <th>Rating text</th>\n",
       "      <th>Votes</th>\n",
       "    </tr>\n",
       "  </thead>\n",
       "  <tbody>\n",
       "    <tr>\n",
       "      <th>0</th>\n",
       "      <td>6317637</td>\n",
       "      <td>Le Petit Souffle</td>\n",
       "      <td>162</td>\n",
       "      <td>Makati City</td>\n",
       "      <td>Third Floor, Century City Mall, Kalayaan Avenue, Poblacion, Makati City</td>\n",
       "      <td>Century City Mall, Poblacion, Makati City</td>\n",
       "      <td>Century City Mall, Poblacion, Makati City, Makati City</td>\n",
       "      <td>121.027535</td>\n",
       "      <td>14.565443</td>\n",
       "      <td>French, Japanese, Desserts</td>\n",
       "      <td>...</td>\n",
       "      <td>Botswana Pula(P)</td>\n",
       "      <td>Yes</td>\n",
       "      <td>No</td>\n",
       "      <td>No</td>\n",
       "      <td>No</td>\n",
       "      <td>3</td>\n",
       "      <td>4.8</td>\n",
       "      <td>Dark Green</td>\n",
       "      <td>Excellent</td>\n",
       "      <td>314</td>\n",
       "    </tr>\n",
       "    <tr>\n",
       "      <th>1</th>\n",
       "      <td>6304287</td>\n",
       "      <td>Izakaya Kikufuji</td>\n",
       "      <td>162</td>\n",
       "      <td>Makati City</td>\n",
       "      <td>Little Tokyo, 2277 Chino Roces Avenue, Legaspi Village, Makati City</td>\n",
       "      <td>Little Tokyo, Legaspi Village, Makati City</td>\n",
       "      <td>Little Tokyo, Legaspi Village, Makati City, Makati City</td>\n",
       "      <td>121.014101</td>\n",
       "      <td>14.553708</td>\n",
       "      <td>Japanese</td>\n",
       "      <td>...</td>\n",
       "      <td>Botswana Pula(P)</td>\n",
       "      <td>Yes</td>\n",
       "      <td>No</td>\n",
       "      <td>No</td>\n",
       "      <td>No</td>\n",
       "      <td>3</td>\n",
       "      <td>4.5</td>\n",
       "      <td>Dark Green</td>\n",
       "      <td>Excellent</td>\n",
       "      <td>591</td>\n",
       "    </tr>\n",
       "    <tr>\n",
       "      <th>2</th>\n",
       "      <td>6300002</td>\n",
       "      <td>Heat - Edsa Shangri-La</td>\n",
       "      <td>162</td>\n",
       "      <td>Mandaluyong City</td>\n",
       "      <td>Edsa Shangri-La, 1 Garden Way, Ortigas, Mandaluyong City</td>\n",
       "      <td>Edsa Shangri-La, Ortigas, Mandaluyong City</td>\n",
       "      <td>Edsa Shangri-La, Ortigas, Mandaluyong City, Mandaluyong City</td>\n",
       "      <td>121.056831</td>\n",
       "      <td>14.581404</td>\n",
       "      <td>Seafood, Asian, Filipino, Indian</td>\n",
       "      <td>...</td>\n",
       "      <td>Botswana Pula(P)</td>\n",
       "      <td>Yes</td>\n",
       "      <td>No</td>\n",
       "      <td>No</td>\n",
       "      <td>No</td>\n",
       "      <td>4</td>\n",
       "      <td>4.4</td>\n",
       "      <td>Green</td>\n",
       "      <td>Very Good</td>\n",
       "      <td>270</td>\n",
       "    </tr>\n",
       "    <tr>\n",
       "      <th>3</th>\n",
       "      <td>6318506</td>\n",
       "      <td>Ooma</td>\n",
       "      <td>162</td>\n",
       "      <td>Mandaluyong City</td>\n",
       "      <td>Third Floor, Mega Fashion Hall, SM Megamall, Ortigas, Mandaluyong City</td>\n",
       "      <td>SM Megamall, Ortigas, Mandaluyong City</td>\n",
       "      <td>SM Megamall, Ortigas, Mandaluyong City, Mandaluyong City</td>\n",
       "      <td>121.056475</td>\n",
       "      <td>14.585318</td>\n",
       "      <td>Japanese, Sushi</td>\n",
       "      <td>...</td>\n",
       "      <td>Botswana Pula(P)</td>\n",
       "      <td>No</td>\n",
       "      <td>No</td>\n",
       "      <td>No</td>\n",
       "      <td>No</td>\n",
       "      <td>4</td>\n",
       "      <td>4.9</td>\n",
       "      <td>Dark Green</td>\n",
       "      <td>Excellent</td>\n",
       "      <td>365</td>\n",
       "    </tr>\n",
       "    <tr>\n",
       "      <th>4</th>\n",
       "      <td>6314302</td>\n",
       "      <td>Sambo Kojin</td>\n",
       "      <td>162</td>\n",
       "      <td>Mandaluyong City</td>\n",
       "      <td>Third Floor, Mega Atrium, SM Megamall, Ortigas, Mandaluyong City</td>\n",
       "      <td>SM Megamall, Ortigas, Mandaluyong City</td>\n",
       "      <td>SM Megamall, Ortigas, Mandaluyong City, Mandaluyong City</td>\n",
       "      <td>121.057508</td>\n",
       "      <td>14.584450</td>\n",
       "      <td>Japanese, Korean</td>\n",
       "      <td>...</td>\n",
       "      <td>Botswana Pula(P)</td>\n",
       "      <td>Yes</td>\n",
       "      <td>No</td>\n",
       "      <td>No</td>\n",
       "      <td>No</td>\n",
       "      <td>4</td>\n",
       "      <td>4.8</td>\n",
       "      <td>Dark Green</td>\n",
       "      <td>Excellent</td>\n",
       "      <td>229</td>\n",
       "    </tr>\n",
       "  </tbody>\n",
       "</table>\n",
       "<p>5 rows × 21 columns</p>\n",
       "</div>"
      ],
      "text/plain": [
       "   Restaurant ID         Restaurant Name  Country Code              City  \\\n",
       "0        6317637        Le Petit Souffle           162       Makati City   \n",
       "1        6304287        Izakaya Kikufuji           162       Makati City   \n",
       "2        6300002  Heat - Edsa Shangri-La           162  Mandaluyong City   \n",
       "3        6318506                    Ooma           162  Mandaluyong City   \n",
       "4        6314302             Sambo Kojin           162  Mandaluyong City   \n",
       "\n",
       "                                                                   Address  \\\n",
       "0  Third Floor, Century City Mall, Kalayaan Avenue, Poblacion, Makati City   \n",
       "1      Little Tokyo, 2277 Chino Roces Avenue, Legaspi Village, Makati City   \n",
       "2                 Edsa Shangri-La, 1 Garden Way, Ortigas, Mandaluyong City   \n",
       "3   Third Floor, Mega Fashion Hall, SM Megamall, Ortigas, Mandaluyong City   \n",
       "4         Third Floor, Mega Atrium, SM Megamall, Ortigas, Mandaluyong City   \n",
       "\n",
       "                                     Locality  \\\n",
       "0   Century City Mall, Poblacion, Makati City   \n",
       "1  Little Tokyo, Legaspi Village, Makati City   \n",
       "2  Edsa Shangri-La, Ortigas, Mandaluyong City   \n",
       "3      SM Megamall, Ortigas, Mandaluyong City   \n",
       "4      SM Megamall, Ortigas, Mandaluyong City   \n",
       "\n",
       "                                               Locality Verbose   Longitude  \\\n",
       "0        Century City Mall, Poblacion, Makati City, Makati City  121.027535   \n",
       "1       Little Tokyo, Legaspi Village, Makati City, Makati City  121.014101   \n",
       "2  Edsa Shangri-La, Ortigas, Mandaluyong City, Mandaluyong City  121.056831   \n",
       "3      SM Megamall, Ortigas, Mandaluyong City, Mandaluyong City  121.056475   \n",
       "4      SM Megamall, Ortigas, Mandaluyong City, Mandaluyong City  121.057508   \n",
       "\n",
       "    Latitude                          Cuisines  ...          Currency  \\\n",
       "0  14.565443        French, Japanese, Desserts  ...  Botswana Pula(P)   \n",
       "1  14.553708                          Japanese  ...  Botswana Pula(P)   \n",
       "2  14.581404  Seafood, Asian, Filipino, Indian  ...  Botswana Pula(P)   \n",
       "3  14.585318                   Japanese, Sushi  ...  Botswana Pula(P)   \n",
       "4  14.584450                  Japanese, Korean  ...  Botswana Pula(P)   \n",
       "\n",
       "  Has Table booking Has Online delivery Is delivering now  \\\n",
       "0               Yes                  No                No   \n",
       "1               Yes                  No                No   \n",
       "2               Yes                  No                No   \n",
       "3                No                  No                No   \n",
       "4               Yes                  No                No   \n",
       "\n",
       "  Switch to order menu Price range  Aggregate rating  Rating color  \\\n",
       "0                   No           3               4.8    Dark Green   \n",
       "1                   No           3               4.5    Dark Green   \n",
       "2                   No           4               4.4         Green   \n",
       "3                   No           4               4.9    Dark Green   \n",
       "4                   No           4               4.8    Dark Green   \n",
       "\n",
       "  Rating text Votes  \n",
       "0   Excellent   314  \n",
       "1   Excellent   591  \n",
       "2   Very Good   270  \n",
       "3   Excellent   365  \n",
       "4   Excellent   229  \n",
       "\n",
       "[5 rows x 21 columns]"
      ]
     },
     "execution_count": 4,
     "metadata": {},
     "output_type": "execute_result"
    }
   ],
   "source": [
    "dataframe = pd.read_csv(os.path.join(datset_dir, \"zomato.csv\"), encoding=\"ISO-8859-1\")\n",
    "\n",
    "print(f\"dataset {dataframe.shape}\")\n",
    "dataframe.head()"
   ]
  },
  {
   "cell_type": "markdown",
   "metadata": {},
   "source": [
    "#### Duplicate Checking & Removing"
   ]
  },
  {
   "cell_type": "code",
   "execution_count": 5,
   "metadata": {},
   "outputs": [
    {
     "data": {
      "text/plain": [
       "0"
      ]
     },
     "execution_count": 5,
     "metadata": {},
     "output_type": "execute_result"
    }
   ],
   "source": [
    "dataframe.duplicated().sum()\n",
    "# dataframe.drop_duplicate(keep='first',inplace=True)\n",
    "# print(dataframe.duplicated().sum())"
   ]
  },
  {
   "cell_type": "markdown",
   "metadata": {},
   "source": [
    "#### Null Value Checking "
   ]
  },
  {
   "cell_type": "code",
   "execution_count": 6,
   "metadata": {},
   "outputs": [
    {
     "name": "stdout",
     "output_type": "stream",
     "text": [
      "Cuisines    9\n",
      "dtype: int64\n"
     ]
    }
   ],
   "source": [
    "isna = dataframe.isna().sum()\n",
    "print(isna[isna > 0])"
   ]
  },
  {
   "cell_type": "code",
   "execution_count": 7,
   "metadata": {},
   "outputs": [
    {
     "name": "stdout",
     "output_type": "stream",
     "text": [
      "Index(['Restaurant ID', 'Restaurant Name', 'Country Code', 'City', 'Address',\n",
      "       'Locality', 'Locality Verbose', 'Longitude', 'Latitude', 'Cuisines',\n",
      "       'Average Cost for two', 'Currency', 'Has Table booking',\n",
      "       'Has Online delivery', 'Is delivering now', 'Switch to order menu',\n",
      "       'Price range', 'Aggregate rating', 'Rating color', 'Rating text',\n",
      "       'Votes'],\n",
      "      dtype='object')\n"
     ]
    }
   ],
   "source": [
    "print(dataframe.columns)"
   ]
  },
  {
   "cell_type": "code",
   "execution_count": 8,
   "metadata": {},
   "outputs": [
    {
     "name": "stdout",
     "output_type": "stream",
     "text": [
      "<class 'pandas.core.frame.DataFrame'>\n",
      "RangeIndex: 9551 entries, 0 to 9550\n",
      "Data columns (total 21 columns):\n",
      " #   Column                Non-Null Count  Dtype  \n",
      "---  ------                --------------  -----  \n",
      " 0   Restaurant ID         9551 non-null   int64  \n",
      " 1   Restaurant Name       9551 non-null   object \n",
      " 2   Country Code          9551 non-null   int64  \n",
      " 3   City                  9551 non-null   object \n",
      " 4   Address               9551 non-null   object \n",
      " 5   Locality              9551 non-null   object \n",
      " 6   Locality Verbose      9551 non-null   object \n",
      " 7   Longitude             9551 non-null   float64\n",
      " 8   Latitude              9551 non-null   float64\n",
      " 9   Cuisines              9542 non-null   object \n",
      " 10  Average Cost for two  9551 non-null   int64  \n",
      " 11  Currency              9551 non-null   object \n",
      " 12  Has Table booking     9551 non-null   object \n",
      " 13  Has Online delivery   9551 non-null   object \n",
      " 14  Is delivering now     9551 non-null   object \n",
      " 15  Switch to order menu  9551 non-null   object \n",
      " 16  Price range           9551 non-null   int64  \n",
      " 17  Aggregate rating      9551 non-null   float64\n",
      " 18  Rating color          9551 non-null   object \n",
      " 19  Rating text           9551 non-null   object \n",
      " 20  Votes                 9551 non-null   int64  \n",
      "dtypes: float64(3), int64(5), object(13)\n",
      "memory usage: 1.5+ MB\n"
     ]
    }
   ],
   "source": [
    "dataframe.info()"
   ]
  },
  {
   "cell_type": "code",
   "execution_count": 9,
   "metadata": {
    "scrolled": true
   },
   "outputs": [
    {
     "data": {
      "text/html": [
       "<div>\n",
       "<style scoped>\n",
       "    .dataframe tbody tr th:only-of-type {\n",
       "        vertical-align: middle;\n",
       "    }\n",
       "\n",
       "    .dataframe tbody tr th {\n",
       "        vertical-align: top;\n",
       "    }\n",
       "\n",
       "    .dataframe thead th {\n",
       "        text-align: right;\n",
       "    }\n",
       "</style>\n",
       "<table border=\"1\" class=\"dataframe\">\n",
       "  <thead>\n",
       "    <tr style=\"text-align: right;\">\n",
       "      <th></th>\n",
       "      <th>Restaurant ID</th>\n",
       "      <th>Country Code</th>\n",
       "      <th>Longitude</th>\n",
       "      <th>Latitude</th>\n",
       "      <th>Average Cost for two</th>\n",
       "      <th>Price range</th>\n",
       "      <th>Aggregate rating</th>\n",
       "      <th>Votes</th>\n",
       "    </tr>\n",
       "  </thead>\n",
       "  <tbody>\n",
       "    <tr>\n",
       "      <th>count</th>\n",
       "      <td>9.551000e+03</td>\n",
       "      <td>9551.000000</td>\n",
       "      <td>9551.000000</td>\n",
       "      <td>9551.000000</td>\n",
       "      <td>9551.000000</td>\n",
       "      <td>9551.000000</td>\n",
       "      <td>9551.000000</td>\n",
       "      <td>9551.000000</td>\n",
       "    </tr>\n",
       "    <tr>\n",
       "      <th>mean</th>\n",
       "      <td>9.051128e+06</td>\n",
       "      <td>18.365616</td>\n",
       "      <td>64.126574</td>\n",
       "      <td>25.854381</td>\n",
       "      <td>1199.210763</td>\n",
       "      <td>1.804837</td>\n",
       "      <td>2.666370</td>\n",
       "      <td>156.909748</td>\n",
       "    </tr>\n",
       "    <tr>\n",
       "      <th>std</th>\n",
       "      <td>8.791521e+06</td>\n",
       "      <td>56.750546</td>\n",
       "      <td>41.467058</td>\n",
       "      <td>11.007935</td>\n",
       "      <td>16121.183073</td>\n",
       "      <td>0.905609</td>\n",
       "      <td>1.516378</td>\n",
       "      <td>430.169145</td>\n",
       "    </tr>\n",
       "    <tr>\n",
       "      <th>min</th>\n",
       "      <td>5.300000e+01</td>\n",
       "      <td>1.000000</td>\n",
       "      <td>-157.948486</td>\n",
       "      <td>-41.330428</td>\n",
       "      <td>0.000000</td>\n",
       "      <td>1.000000</td>\n",
       "      <td>0.000000</td>\n",
       "      <td>0.000000</td>\n",
       "    </tr>\n",
       "    <tr>\n",
       "      <th>25%</th>\n",
       "      <td>3.019625e+05</td>\n",
       "      <td>1.000000</td>\n",
       "      <td>77.081343</td>\n",
       "      <td>28.478713</td>\n",
       "      <td>250.000000</td>\n",
       "      <td>1.000000</td>\n",
       "      <td>2.500000</td>\n",
       "      <td>5.000000</td>\n",
       "    </tr>\n",
       "    <tr>\n",
       "      <th>50%</th>\n",
       "      <td>6.004089e+06</td>\n",
       "      <td>1.000000</td>\n",
       "      <td>77.191964</td>\n",
       "      <td>28.570469</td>\n",
       "      <td>400.000000</td>\n",
       "      <td>2.000000</td>\n",
       "      <td>3.200000</td>\n",
       "      <td>31.000000</td>\n",
       "    </tr>\n",
       "    <tr>\n",
       "      <th>75%</th>\n",
       "      <td>1.835229e+07</td>\n",
       "      <td>1.000000</td>\n",
       "      <td>77.282006</td>\n",
       "      <td>28.642758</td>\n",
       "      <td>700.000000</td>\n",
       "      <td>2.000000</td>\n",
       "      <td>3.700000</td>\n",
       "      <td>131.000000</td>\n",
       "    </tr>\n",
       "    <tr>\n",
       "      <th>max</th>\n",
       "      <td>1.850065e+07</td>\n",
       "      <td>216.000000</td>\n",
       "      <td>174.832089</td>\n",
       "      <td>55.976980</td>\n",
       "      <td>800000.000000</td>\n",
       "      <td>4.000000</td>\n",
       "      <td>4.900000</td>\n",
       "      <td>10934.000000</td>\n",
       "    </tr>\n",
       "  </tbody>\n",
       "</table>\n",
       "</div>"
      ],
      "text/plain": [
       "       Restaurant ID  Country Code    Longitude     Latitude  \\\n",
       "count   9.551000e+03   9551.000000  9551.000000  9551.000000   \n",
       "mean    9.051128e+06     18.365616    64.126574    25.854381   \n",
       "std     8.791521e+06     56.750546    41.467058    11.007935   \n",
       "min     5.300000e+01      1.000000  -157.948486   -41.330428   \n",
       "25%     3.019625e+05      1.000000    77.081343    28.478713   \n",
       "50%     6.004089e+06      1.000000    77.191964    28.570469   \n",
       "75%     1.835229e+07      1.000000    77.282006    28.642758   \n",
       "max     1.850065e+07    216.000000   174.832089    55.976980   \n",
       "\n",
       "       Average Cost for two  Price range  Aggregate rating         Votes  \n",
       "count           9551.000000  9551.000000       9551.000000   9551.000000  \n",
       "mean            1199.210763     1.804837          2.666370    156.909748  \n",
       "std            16121.183073     0.905609          1.516378    430.169145  \n",
       "min                0.000000     1.000000          0.000000      0.000000  \n",
       "25%              250.000000     1.000000          2.500000      5.000000  \n",
       "50%              400.000000     2.000000          3.200000     31.000000  \n",
       "75%              700.000000     2.000000          3.700000    131.000000  \n",
       "max           800000.000000     4.000000          4.900000  10934.000000  "
      ]
     },
     "execution_count": 9,
     "metadata": {},
     "output_type": "execute_result"
    }
   ],
   "source": [
    "dataframe.describe()"
   ]
  },
  {
   "cell_type": "markdown",
   "metadata": {},
   "source": [
    "## Data Preprocessing"
   ]
  },
  {
   "cell_type": "code",
   "execution_count": 10,
   "metadata": {},
   "outputs": [
    {
     "name": "stdout",
     "output_type": "stream",
     "text": [
      "dataset (8652, 21)\n",
      "Index(['Restaurant ID', 'Restaurant Name', 'Country Code', 'City', 'Address',\n",
      "       'Locality', 'Locality Verbose', 'Longitude', 'Latitude', 'Cuisines',\n",
      "       'Average Cost for two', 'Currency', 'Has Table booking',\n",
      "       'Has Online delivery', 'Is delivering now', 'Switch to order menu',\n",
      "       'Price range', 'Aggregate rating', 'Rating color', 'Rating text',\n",
      "       'Votes'],\n",
      "      dtype='object')\n"
     ]
    },
    {
     "data": {
      "text/html": [
       "<div>\n",
       "<style scoped>\n",
       "    .dataframe tbody tr th:only-of-type {\n",
       "        vertical-align: middle;\n",
       "    }\n",
       "\n",
       "    .dataframe tbody tr th {\n",
       "        vertical-align: top;\n",
       "    }\n",
       "\n",
       "    .dataframe thead th {\n",
       "        text-align: right;\n",
       "    }\n",
       "</style>\n",
       "<table border=\"1\" class=\"dataframe\">\n",
       "  <thead>\n",
       "    <tr style=\"text-align: right;\">\n",
       "      <th></th>\n",
       "      <th>Restaurant ID</th>\n",
       "      <th>Restaurant Name</th>\n",
       "      <th>Country Code</th>\n",
       "      <th>City</th>\n",
       "      <th>Address</th>\n",
       "      <th>Locality</th>\n",
       "      <th>Locality Verbose</th>\n",
       "      <th>Longitude</th>\n",
       "      <th>Latitude</th>\n",
       "      <th>Cuisines</th>\n",
       "      <th>...</th>\n",
       "      <th>Currency</th>\n",
       "      <th>Has Table booking</th>\n",
       "      <th>Has Online delivery</th>\n",
       "      <th>Is delivering now</th>\n",
       "      <th>Switch to order menu</th>\n",
       "      <th>Price range</th>\n",
       "      <th>Aggregate rating</th>\n",
       "      <th>Rating color</th>\n",
       "      <th>Rating text</th>\n",
       "      <th>Votes</th>\n",
       "    </tr>\n",
       "  </thead>\n",
       "  <tbody>\n",
       "    <tr>\n",
       "      <th>0</th>\n",
       "      <td>3400025</td>\n",
       "      <td>Jahanpanah</td>\n",
       "      <td>1</td>\n",
       "      <td>Agra</td>\n",
       "      <td>E 23, Shopping Arcade, Sadar Bazaar, Agra Cantt, Agra</td>\n",
       "      <td>Agra Cantt</td>\n",
       "      <td>Agra Cantt, Agra</td>\n",
       "      <td>78.011544</td>\n",
       "      <td>27.161661</td>\n",
       "      <td>North Indian, Mughlai</td>\n",
       "      <td>...</td>\n",
       "      <td>Indian Rupees(Rs.)</td>\n",
       "      <td>No</td>\n",
       "      <td>No</td>\n",
       "      <td>No</td>\n",
       "      <td>No</td>\n",
       "      <td>3</td>\n",
       "      <td>3.9</td>\n",
       "      <td>Yellow</td>\n",
       "      <td>Good</td>\n",
       "      <td>140</td>\n",
       "    </tr>\n",
       "    <tr>\n",
       "      <th>1</th>\n",
       "      <td>3400341</td>\n",
       "      <td>Rangrezz Restaurant</td>\n",
       "      <td>1</td>\n",
       "      <td>Agra</td>\n",
       "      <td>E-20, Shopping Arcade, Sadar Bazaar, Agra Cantt, Agra</td>\n",
       "      <td>Agra Cantt</td>\n",
       "      <td>Agra Cantt, Agra</td>\n",
       "      <td>0.000000</td>\n",
       "      <td>0.000000</td>\n",
       "      <td>North Indian, Mughlai</td>\n",
       "      <td>...</td>\n",
       "      <td>Indian Rupees(Rs.)</td>\n",
       "      <td>No</td>\n",
       "      <td>No</td>\n",
       "      <td>No</td>\n",
       "      <td>No</td>\n",
       "      <td>2</td>\n",
       "      <td>3.5</td>\n",
       "      <td>Yellow</td>\n",
       "      <td>Good</td>\n",
       "      <td>71</td>\n",
       "    </tr>\n",
       "    <tr>\n",
       "      <th>2</th>\n",
       "      <td>3400005</td>\n",
       "      <td>Time2Eat - Mama Chicken</td>\n",
       "      <td>1</td>\n",
       "      <td>Agra</td>\n",
       "      <td>Main Market, Sadar Bazaar, Agra Cantt, Agra</td>\n",
       "      <td>Agra Cantt</td>\n",
       "      <td>Agra Cantt, Agra</td>\n",
       "      <td>78.011608</td>\n",
       "      <td>27.160832</td>\n",
       "      <td>North Indian</td>\n",
       "      <td>...</td>\n",
       "      <td>Indian Rupees(Rs.)</td>\n",
       "      <td>No</td>\n",
       "      <td>No</td>\n",
       "      <td>No</td>\n",
       "      <td>No</td>\n",
       "      <td>2</td>\n",
       "      <td>3.6</td>\n",
       "      <td>Yellow</td>\n",
       "      <td>Good</td>\n",
       "      <td>94</td>\n",
       "    </tr>\n",
       "    <tr>\n",
       "      <th>3</th>\n",
       "      <td>3400021</td>\n",
       "      <td>Chokho Jeeman Marwari Jain Bhojanalya</td>\n",
       "      <td>1</td>\n",
       "      <td>Agra</td>\n",
       "      <td>1/48, Delhi Gate, Station Road, Raja Mandi, Civil Lines, Agra</td>\n",
       "      <td>Civil Lines</td>\n",
       "      <td>Civil Lines, Agra</td>\n",
       "      <td>77.998092</td>\n",
       "      <td>27.195928</td>\n",
       "      <td>Rajasthani</td>\n",
       "      <td>...</td>\n",
       "      <td>Indian Rupees(Rs.)</td>\n",
       "      <td>No</td>\n",
       "      <td>No</td>\n",
       "      <td>No</td>\n",
       "      <td>No</td>\n",
       "      <td>2</td>\n",
       "      <td>4.0</td>\n",
       "      <td>Green</td>\n",
       "      <td>Very Good</td>\n",
       "      <td>87</td>\n",
       "    </tr>\n",
       "    <tr>\n",
       "      <th>4</th>\n",
       "      <td>3400017</td>\n",
       "      <td>Pinch Of Spice</td>\n",
       "      <td>1</td>\n",
       "      <td>Agra</td>\n",
       "      <td>23/453, Opposite Sanjay Cinema, Wazipura Road, Sanjay Place, Civil Lines, Agra</td>\n",
       "      <td>Civil Lines</td>\n",
       "      <td>Civil Lines, Agra</td>\n",
       "      <td>78.007553</td>\n",
       "      <td>27.201725</td>\n",
       "      <td>North Indian, Chinese, Mughlai</td>\n",
       "      <td>...</td>\n",
       "      <td>Indian Rupees(Rs.)</td>\n",
       "      <td>No</td>\n",
       "      <td>No</td>\n",
       "      <td>No</td>\n",
       "      <td>No</td>\n",
       "      <td>3</td>\n",
       "      <td>4.2</td>\n",
       "      <td>Green</td>\n",
       "      <td>Very Good</td>\n",
       "      <td>177</td>\n",
       "    </tr>\n",
       "  </tbody>\n",
       "</table>\n",
       "<p>5 rows × 21 columns</p>\n",
       "</div>"
      ],
      "text/plain": [
       "   Restaurant ID                        Restaurant Name  Country Code  City  \\\n",
       "0        3400025                             Jahanpanah             1  Agra   \n",
       "1        3400341                    Rangrezz Restaurant             1  Agra   \n",
       "2        3400005                Time2Eat - Mama Chicken             1  Agra   \n",
       "3        3400021  Chokho Jeeman Marwari Jain Bhojanalya             1  Agra   \n",
       "4        3400017                         Pinch Of Spice             1  Agra   \n",
       "\n",
       "                                                                          Address  \\\n",
       "0                           E 23, Shopping Arcade, Sadar Bazaar, Agra Cantt, Agra   \n",
       "1                           E-20, Shopping Arcade, Sadar Bazaar, Agra Cantt, Agra   \n",
       "2                                     Main Market, Sadar Bazaar, Agra Cantt, Agra   \n",
       "3                   1/48, Delhi Gate, Station Road, Raja Mandi, Civil Lines, Agra   \n",
       "4  23/453, Opposite Sanjay Cinema, Wazipura Road, Sanjay Place, Civil Lines, Agra   \n",
       "\n",
       "      Locality   Locality Verbose  Longitude   Latitude  \\\n",
       "0   Agra Cantt   Agra Cantt, Agra  78.011544  27.161661   \n",
       "1   Agra Cantt   Agra Cantt, Agra   0.000000   0.000000   \n",
       "2   Agra Cantt   Agra Cantt, Agra  78.011608  27.160832   \n",
       "3  Civil Lines  Civil Lines, Agra  77.998092  27.195928   \n",
       "4  Civil Lines  Civil Lines, Agra  78.007553  27.201725   \n",
       "\n",
       "                         Cuisines  ...            Currency Has Table booking  \\\n",
       "0           North Indian, Mughlai  ...  Indian Rupees(Rs.)                No   \n",
       "1           North Indian, Mughlai  ...  Indian Rupees(Rs.)                No   \n",
       "2                    North Indian  ...  Indian Rupees(Rs.)                No   \n",
       "3                      Rajasthani  ...  Indian Rupees(Rs.)                No   \n",
       "4  North Indian, Chinese, Mughlai  ...  Indian Rupees(Rs.)                No   \n",
       "\n",
       "  Has Online delivery Is delivering now Switch to order menu Price range  \\\n",
       "0                  No                No                   No           3   \n",
       "1                  No                No                   No           2   \n",
       "2                  No                No                   No           2   \n",
       "3                  No                No                   No           2   \n",
       "4                  No                No                   No           3   \n",
       "\n",
       "   Aggregate rating  Rating color Rating text Votes  \n",
       "0               3.9        Yellow        Good   140  \n",
       "1               3.5        Yellow        Good    71  \n",
       "2               3.6        Yellow        Good    94  \n",
       "3               4.0         Green   Very Good    87  \n",
       "4               4.2         Green   Very Good   177  \n",
       "\n",
       "[5 rows x 21 columns]"
      ]
     },
     "execution_count": 10,
     "metadata": {},
     "output_type": "execute_result"
    }
   ],
   "source": [
    "dataframe = dataframe[dataframe[\"Country Code\"] == 1].reset_index(drop=True)\n",
    "\n",
    "print(f\"dataset {dataframe.shape}\")\n",
    "\n",
    "print(dataframe.columns)\n",
    "\n",
    "dataframe.head()"
   ]
  },
  {
   "cell_type": "markdown",
   "metadata": {},
   "source": [
    "#### Unnecessary Column Removal"
   ]
  },
  {
   "cell_type": "code",
   "execution_count": 11,
   "metadata": {},
   "outputs": [
    {
     "name": "stdout",
     "output_type": "stream",
     "text": [
      "dataset (8652, 11)\n",
      "Index(['Restaurant ID', 'City', 'Longitude', 'Latitude', 'Cuisines',\n",
      "       'Average Cost for two', 'Has Table booking', 'Has Online delivery',\n",
      "       'Price range', 'Aggregate rating', 'Votes'],\n",
      "      dtype='object')\n"
     ]
    },
    {
     "data": {
      "text/html": [
       "<div>\n",
       "<style scoped>\n",
       "    .dataframe tbody tr th:only-of-type {\n",
       "        vertical-align: middle;\n",
       "    }\n",
       "\n",
       "    .dataframe tbody tr th {\n",
       "        vertical-align: top;\n",
       "    }\n",
       "\n",
       "    .dataframe thead th {\n",
       "        text-align: right;\n",
       "    }\n",
       "</style>\n",
       "<table border=\"1\" class=\"dataframe\">\n",
       "  <thead>\n",
       "    <tr style=\"text-align: right;\">\n",
       "      <th></th>\n",
       "      <th>Restaurant ID</th>\n",
       "      <th>City</th>\n",
       "      <th>Longitude</th>\n",
       "      <th>Latitude</th>\n",
       "      <th>Cuisines</th>\n",
       "      <th>Average Cost for two</th>\n",
       "      <th>Has Table booking</th>\n",
       "      <th>Has Online delivery</th>\n",
       "      <th>Price range</th>\n",
       "      <th>Aggregate rating</th>\n",
       "      <th>Votes</th>\n",
       "    </tr>\n",
       "  </thead>\n",
       "  <tbody>\n",
       "    <tr>\n",
       "      <th>0</th>\n",
       "      <td>3400025</td>\n",
       "      <td>Agra</td>\n",
       "      <td>78.011544</td>\n",
       "      <td>27.161661</td>\n",
       "      <td>North Indian, Mughlai</td>\n",
       "      <td>850</td>\n",
       "      <td>No</td>\n",
       "      <td>No</td>\n",
       "      <td>3</td>\n",
       "      <td>3.9</td>\n",
       "      <td>140</td>\n",
       "    </tr>\n",
       "    <tr>\n",
       "      <th>1</th>\n",
       "      <td>3400341</td>\n",
       "      <td>Agra</td>\n",
       "      <td>0.000000</td>\n",
       "      <td>0.000000</td>\n",
       "      <td>North Indian, Mughlai</td>\n",
       "      <td>700</td>\n",
       "      <td>No</td>\n",
       "      <td>No</td>\n",
       "      <td>2</td>\n",
       "      <td>3.5</td>\n",
       "      <td>71</td>\n",
       "    </tr>\n",
       "    <tr>\n",
       "      <th>2</th>\n",
       "      <td>3400005</td>\n",
       "      <td>Agra</td>\n",
       "      <td>78.011608</td>\n",
       "      <td>27.160832</td>\n",
       "      <td>North Indian</td>\n",
       "      <td>500</td>\n",
       "      <td>No</td>\n",
       "      <td>No</td>\n",
       "      <td>2</td>\n",
       "      <td>3.6</td>\n",
       "      <td>94</td>\n",
       "    </tr>\n",
       "    <tr>\n",
       "      <th>3</th>\n",
       "      <td>3400021</td>\n",
       "      <td>Agra</td>\n",
       "      <td>77.998092</td>\n",
       "      <td>27.195928</td>\n",
       "      <td>Rajasthani</td>\n",
       "      <td>400</td>\n",
       "      <td>No</td>\n",
       "      <td>No</td>\n",
       "      <td>2</td>\n",
       "      <td>4.0</td>\n",
       "      <td>87</td>\n",
       "    </tr>\n",
       "    <tr>\n",
       "      <th>4</th>\n",
       "      <td>3400017</td>\n",
       "      <td>Agra</td>\n",
       "      <td>78.007553</td>\n",
       "      <td>27.201725</td>\n",
       "      <td>North Indian, Chinese, Mughlai</td>\n",
       "      <td>1000</td>\n",
       "      <td>No</td>\n",
       "      <td>No</td>\n",
       "      <td>3</td>\n",
       "      <td>4.2</td>\n",
       "      <td>177</td>\n",
       "    </tr>\n",
       "  </tbody>\n",
       "</table>\n",
       "</div>"
      ],
      "text/plain": [
       "   Restaurant ID  City  Longitude   Latitude                        Cuisines  \\\n",
       "0        3400025  Agra  78.011544  27.161661           North Indian, Mughlai   \n",
       "1        3400341  Agra   0.000000   0.000000           North Indian, Mughlai   \n",
       "2        3400005  Agra  78.011608  27.160832                    North Indian   \n",
       "3        3400021  Agra  77.998092  27.195928                      Rajasthani   \n",
       "4        3400017  Agra  78.007553  27.201725  North Indian, Chinese, Mughlai   \n",
       "\n",
       "   Average Cost for two Has Table booking Has Online delivery  Price range  \\\n",
       "0                   850                No                  No            3   \n",
       "1                   700                No                  No            2   \n",
       "2                   500                No                  No            2   \n",
       "3                   400                No                  No            2   \n",
       "4                  1000                No                  No            3   \n",
       "\n",
       "   Aggregate rating  Votes  \n",
       "0               3.9    140  \n",
       "1               3.5     71  \n",
       "2               3.6     94  \n",
       "3               4.0     87  \n",
       "4               4.2    177  "
      ]
     },
     "execution_count": 11,
     "metadata": {},
     "output_type": "execute_result"
    }
   ],
   "source": [
    "columns_2b_removed = [\n",
    "    \"Restaurant Name\",\n",
    "    \"Country Code\",\n",
    "    \"Address\",\n",
    "    \"Locality\",\n",
    "    \"Locality Verbose\",\n",
    "    \"Currency\",\n",
    "    \"Is delivering now\",\n",
    "    \"Switch to order menu\",\n",
    "    \"Rating color\",\n",
    "    \"Rating text\",\n",
    "]\n",
    "\n",
    "\n",
    "dataframe.drop(columns=columns_2b_removed, inplace=True)\n",
    "\n",
    "print(f\"dataset {dataframe.shape}\")\n",
    "\n",
    "print(dataframe.columns)\n",
    "\n",
    "dataframe.head()"
   ]
  },
  {
   "cell_type": "markdown",
   "metadata": {},
   "source": [
    "#### Null Value Replacement"
   ]
  },
  {
   "cell_type": "code",
   "execution_count": 12,
   "metadata": {},
   "outputs": [
    {
     "data": {
      "text/plain": [
       "0"
      ]
     },
     "execution_count": 12,
     "metadata": {},
     "output_type": "execute_result"
    }
   ],
   "source": [
    "dataframe[\"Cuisines\"].fillna(\"\", inplace=True)\n",
    "dataframe[\"Cuisines\"].isna().sum()"
   ]
  },
  {
   "cell_type": "markdown",
   "metadata": {},
   "source": [
    "#### Column Type Casting"
   ]
  },
  {
   "cell_type": "code",
   "execution_count": 13,
   "metadata": {},
   "outputs": [
    {
     "name": "stdout",
     "output_type": "stream",
     "text": [
      "<class 'pandas.core.frame.DataFrame'>\n",
      "RangeIndex: 8652 entries, 0 to 8651\n",
      "Data columns (total 11 columns):\n",
      " #   Column                Non-Null Count  Dtype  \n",
      "---  ------                --------------  -----  \n",
      " 0   Restaurant ID         8652 non-null   int64  \n",
      " 1   City                  8652 non-null   object \n",
      " 2   Longitude             8652 non-null   float64\n",
      " 3   Latitude              8652 non-null   float64\n",
      " 4   Cuisines              8652 non-null   object \n",
      " 5   Average Cost for two  8652 non-null   int64  \n",
      " 6   Has Table booking     8652 non-null   object \n",
      " 7   Has Online delivery   8652 non-null   object \n",
      " 8   Price range           8652 non-null   int64  \n",
      " 9   Aggregate rating      8652 non-null   float64\n",
      " 10  Votes                 8652 non-null   int64  \n",
      "dtypes: float64(3), int64(4), object(4)\n",
      "memory usage: 743.7+ KB\n"
     ]
    }
   ],
   "source": [
    "dataframe[\"City\"] = dataframe[\"City\"].apply(str)\n",
    "dataframe[\"Cuisines\"] = dataframe[\"Cuisines\"].apply(str)\n",
    "dataframe[\"Has Table booking\"] = dataframe[\"Has Table booking\"].apply(str)\n",
    "dataframe[\"Has Online delivery\"] = dataframe[\"Has Online delivery\"].apply(str)\n",
    "dataframe.info()"
   ]
  },
  {
   "cell_type": "markdown",
   "metadata": {},
   "source": [
    "#### Trimmimg String Columns"
   ]
  },
  {
   "cell_type": "code",
   "execution_count": 14,
   "metadata": {},
   "outputs": [
    {
     "name": "stdout",
     "output_type": "stream",
     "text": [
      "<class 'pandas.core.frame.DataFrame'>\n",
      "RangeIndex: 8652 entries, 0 to 8651\n",
      "Data columns (total 11 columns):\n",
      " #   Column                Non-Null Count  Dtype  \n",
      "---  ------                --------------  -----  \n",
      " 0   Restaurant ID         8652 non-null   int64  \n",
      " 1   City                  8652 non-null   object \n",
      " 2   Longitude             8652 non-null   float64\n",
      " 3   Latitude              8652 non-null   float64\n",
      " 4   Cuisines              8652 non-null   object \n",
      " 5   Average Cost for two  8652 non-null   int64  \n",
      " 6   Has Table booking     8652 non-null   object \n",
      " 7   Has Online delivery   8652 non-null   object \n",
      " 8   Price range           8652 non-null   int64  \n",
      " 9   Aggregate rating      8652 non-null   float64\n",
      " 10  Votes                 8652 non-null   int64  \n",
      "dtypes: float64(3), int64(4), object(4)\n",
      "memory usage: 743.7+ KB\n"
     ]
    }
   ],
   "source": [
    "def strip_coulumn(value):\n",
    "    return value.strip() if isinstance(value, str) else value\n",
    "\n",
    "\n",
    "dataframe[\"City\"] = dataframe[\"City\"].apply(lambda x: x.strip())\n",
    "dataframe[\"Cuisines\"] = dataframe[\"Cuisines\"].apply(lambda x: x.strip())\n",
    "dataframe[\"Has Table booking\"] = dataframe[\"Has Table booking\"].apply(\n",
    "    lambda x: x.strip()\n",
    ")\n",
    "dataframe[\"Has Online delivery\"] = dataframe[\"Has Online delivery\"].apply(\n",
    "    lambda x: x.strip()\n",
    ")\n",
    "\n",
    "dataframe.info()"
   ]
  },
  {
   "cell_type": "markdown",
   "metadata": {},
   "source": [
    "#### Converting Column To Lowercase"
   ]
  },
  {
   "cell_type": "code",
   "execution_count": 15,
   "metadata": {},
   "outputs": [
    {
     "name": "stdout",
     "output_type": "stream",
     "text": [
      "<class 'pandas.core.frame.DataFrame'>\n",
      "RangeIndex: 8652 entries, 0 to 8651\n",
      "Data columns (total 11 columns):\n",
      " #   Column                Non-Null Count  Dtype  \n",
      "---  ------                --------------  -----  \n",
      " 0   Restaurant ID         8652 non-null   int64  \n",
      " 1   City                  8652 non-null   object \n",
      " 2   Longitude             8652 non-null   float64\n",
      " 3   Latitude              8652 non-null   float64\n",
      " 4   Cuisines              8652 non-null   object \n",
      " 5   Average Cost for two  8652 non-null   int64  \n",
      " 6   Has Table booking     8652 non-null   object \n",
      " 7   Has Online delivery   8652 non-null   object \n",
      " 8   Price range           8652 non-null   int64  \n",
      " 9   Aggregate rating      8652 non-null   float64\n",
      " 10  Votes                 8652 non-null   int64  \n",
      "dtypes: float64(3), int64(4), object(4)\n",
      "memory usage: 743.7+ KB\n"
     ]
    }
   ],
   "source": [
    "dataframe[\"City\"] = dataframe[\"City\"].apply(lambda x: x.lower())\n",
    "dataframe[\"Cuisines\"] = dataframe[\"Cuisines\"].apply(lambda x: x.lower())\n",
    "dataframe[\"Has Table booking\"] = dataframe[\"Has Table booking\"].apply(\n",
    "    lambda x: x.lower()\n",
    ")\n",
    "dataframe[\"Has Online delivery\"] = dataframe[\"Has Online delivery\"].apply(\n",
    "    lambda x: x.lower()\n",
    ")\n",
    "\n",
    "dataframe.info()"
   ]
  },
  {
   "cell_type": "markdown",
   "metadata": {},
   "source": [
    "#### Analyzing City "
   ]
  },
  {
   "cell_type": "code",
   "execution_count": 16,
   "metadata": {},
   "outputs": [
    {
     "data": {
      "text/plain": [
       "<AxesSubplot: >"
      ]
     },
     "execution_count": 16,
     "metadata": {},
     "output_type": "execute_result"
    },
    {
     "data": {
      "image/png": "[encoded data removed]",
      "text/plain": [
       "<Figure size 640x480 with 1 Axes>"
      ]
     },
     "metadata": {},
     "output_type": "display_data"
    }
   ],
   "source": [
    "dataframe[\"City\"].value_counts().plot(kind=\"bar\")"
   ]
  },
  {
   "cell_type": "code",
   "execution_count": 17,
   "metadata": {},
   "outputs": [
    {
     "name": "stdout",
     "output_type": "stream",
     "text": [
      "['new delhi', 'gurgaon', 'noida', 'faridabad']\n"
     ]
    },
    {
     "data": {
      "text/plain": [
       "<AxesSubplot: >"
      ]
     },
     "execution_count": 17,
     "metadata": {},
     "output_type": "execute_result"
    },
    {
     "data": {
      "image/png": "[encoded data removed]",
      "text/plain": [
       "<Figure size 640x480 with 1 Axes>"
      ]
     },
     "metadata": {},
     "output_type": "display_data"
    }
   ],
   "source": [
    "top_4_city = dataframe[\"City\"].value_counts().nlargest(4).index.tolist()\n",
    "print(top_4_city)\n",
    "dataframe[\"City\"] = dataframe[\"City\"].apply(\n",
    "    lambda x: x if x in top_4_city else \"new_city\"\n",
    ")\n",
    "\n",
    "dataframe[\"City\"].value_counts().plot(kind=\"bar\")"
   ]
  },
  {
   "cell_type": "code",
   "execution_count": 18,
   "metadata": {},
   "outputs": [
    {
     "data": {
      "text/html": [
       "<div>\n",
       "<style scoped>\n",
       "    .dataframe tbody tr th:only-of-type {\n",
       "        vertical-align: middle;\n",
       "    }\n",
       "\n",
       "    .dataframe tbody tr th {\n",
       "        vertical-align: top;\n",
       "    }\n",
       "\n",
       "    .dataframe thead th {\n",
       "        text-align: right;\n",
       "    }\n",
       "</style>\n",
       "<table border=\"1\" class=\"dataframe\">\n",
       "  <thead>\n",
       "    <tr style=\"text-align: right;\">\n",
       "      <th></th>\n",
       "      <th>City</th>\n",
       "    </tr>\n",
       "  </thead>\n",
       "  <tbody>\n",
       "    <tr>\n",
       "      <th>0</th>\n",
       "      <td>new_city</td>\n",
       "    </tr>\n",
       "    <tr>\n",
       "      <th>1</th>\n",
       "      <td>new_city</td>\n",
       "    </tr>\n",
       "    <tr>\n",
       "      <th>2</th>\n",
       "      <td>new_city</td>\n",
       "    </tr>\n",
       "    <tr>\n",
       "      <th>3</th>\n",
       "      <td>new_city</td>\n",
       "    </tr>\n",
       "    <tr>\n",
       "      <th>4</th>\n",
       "      <td>new_city</td>\n",
       "    </tr>\n",
       "  </tbody>\n",
       "</table>\n",
       "</div>"
      ],
      "text/plain": [
       "       City\n",
       "0  new_city\n",
       "1  new_city\n",
       "2  new_city\n",
       "3  new_city\n",
       "4  new_city"
      ]
     },
     "execution_count": 18,
     "metadata": {},
     "output_type": "execute_result"
    }
   ],
   "source": [
    "dataframe[[\"City\"]].head()"
   ]
  },
  {
   "cell_type": "markdown",
   "metadata": {},
   "source": [
    "#### Analyzing Has Table booking & Has Online delivery"
   ]
  },
  {
   "cell_type": "code",
   "execution_count": 19,
   "metadata": {},
   "outputs": [
    {
     "data": {
      "image/png": "[encoded data removed]",
      "text/plain": [
       "<Figure size 640x480 with 1 Axes>"
      ]
     },
     "metadata": {},
     "output_type": "display_data"
    }
   ],
   "source": [
    "dataframe[\"Has Table booking\"].value_counts().plot(kind=\"bar\")\n",
    "dataframe[\"Has Table booking\"] = dataframe[\"Has Table booking\"].map({\"yes\": 1, \"no\": 0})\n",
    "dataframe[\"Has Table booking\"] = dataframe[\"Has Table booking\"].astype(\"int8\")"
   ]
  },
  {
   "cell_type": "code",
   "execution_count": 20,
   "metadata": {},
   "outputs": [
    {
     "data": {
      "image/png": "[encoded data removed]",
      "text/plain": [
       "<Figure size 640x480 with 1 Axes>"
      ]
     },
     "metadata": {},
     "output_type": "display_data"
    }
   ],
   "source": [
    "dataframe[\"Has Online delivery\"].value_counts().plot(kind=\"bar\")\n",
    "dataframe[\"Has Online delivery\"] = dataframe[\"Has Online delivery\"].map(\n",
    "    {\"yes\": 1, \"no\": 0}\n",
    ")\n",
    "dataframe[\"Has Online delivery\"] = dataframe[\"Has Online delivery\"].astype(\"int8\")"
   ]
  },
  {
   "cell_type": "code",
   "execution_count": 21,
   "metadata": {},
   "outputs": [
    {
     "data": {
      "text/html": [
       "<div>\n",
       "<style scoped>\n",
       "    .dataframe tbody tr th:only-of-type {\n",
       "        vertical-align: middle;\n",
       "    }\n",
       "\n",
       "    .dataframe tbody tr th {\n",
       "        vertical-align: top;\n",
       "    }\n",
       "\n",
       "    .dataframe thead th {\n",
       "        text-align: right;\n",
       "    }\n",
       "</style>\n",
       "<table border=\"1\" class=\"dataframe\">\n",
       "  <thead>\n",
       "    <tr style=\"text-align: right;\">\n",
       "      <th></th>\n",
       "      <th>Has Online delivery</th>\n",
       "      <th>Has Table booking</th>\n",
       "    </tr>\n",
       "  </thead>\n",
       "  <tbody>\n",
       "    <tr>\n",
       "      <th>0</th>\n",
       "      <td>0</td>\n",
       "      <td>0</td>\n",
       "    </tr>\n",
       "    <tr>\n",
       "      <th>1</th>\n",
       "      <td>0</td>\n",
       "      <td>0</td>\n",
       "    </tr>\n",
       "    <tr>\n",
       "      <th>2</th>\n",
       "      <td>0</td>\n",
       "      <td>0</td>\n",
       "    </tr>\n",
       "    <tr>\n",
       "      <th>3</th>\n",
       "      <td>0</td>\n",
       "      <td>0</td>\n",
       "    </tr>\n",
       "    <tr>\n",
       "      <th>4</th>\n",
       "      <td>0</td>\n",
       "      <td>0</td>\n",
       "    </tr>\n",
       "  </tbody>\n",
       "</table>\n",
       "</div>"
      ],
      "text/plain": [
       "   Has Online delivery  Has Table booking\n",
       "0                    0                  0\n",
       "1                    0                  0\n",
       "2                    0                  0\n",
       "3                    0                  0\n",
       "4                    0                  0"
      ]
     },
     "execution_count": 21,
     "metadata": {},
     "output_type": "execute_result"
    }
   ],
   "source": [
    "dataframe[[\"Has Online delivery\", \"Has Table booking\"]].head()"
   ]
  },
  {
   "cell_type": "markdown",
   "metadata": {},
   "source": [
    "#### Analyzing Price Range"
   ]
  },
  {
   "cell_type": "code",
   "execution_count": 22,
   "metadata": {},
   "outputs": [
    {
     "data": {
      "text/plain": [
       "<AxesSubplot: >"
      ]
     },
     "execution_count": 22,
     "metadata": {},
     "output_type": "execute_result"
    },
    {
     "data": {
      "image/png": "[encoded data removed]",
      "text/plain": [
       "<Figure size 640x480 with 1 Axes>"
      ]
     },
     "metadata": {},
     "output_type": "display_data"
    }
   ],
   "source": [
    "dataframe[\"Price range\"].value_counts().plot(kind=\"bar\")"
   ]
  },
  {
   "cell_type": "code",
   "execution_count": 23,
   "metadata": {},
   "outputs": [
    {
     "data": {
      "text/html": [
       "<div>\n",
       "<style scoped>\n",
       "    .dataframe tbody tr th:only-of-type {\n",
       "        vertical-align: middle;\n",
       "    }\n",
       "\n",
       "    .dataframe tbody tr th {\n",
       "        vertical-align: top;\n",
       "    }\n",
       "\n",
       "    .dataframe thead th {\n",
       "        text-align: right;\n",
       "    }\n",
       "</style>\n",
       "<table border=\"1\" class=\"dataframe\">\n",
       "  <thead>\n",
       "    <tr style=\"text-align: right;\">\n",
       "      <th></th>\n",
       "      <th>Price range</th>\n",
       "    </tr>\n",
       "  </thead>\n",
       "  <tbody>\n",
       "    <tr>\n",
       "      <th>0</th>\n",
       "      <td>0.666667</td>\n",
       "    </tr>\n",
       "    <tr>\n",
       "      <th>1</th>\n",
       "      <td>0.333333</td>\n",
       "    </tr>\n",
       "    <tr>\n",
       "      <th>2</th>\n",
       "      <td>0.333333</td>\n",
       "    </tr>\n",
       "    <tr>\n",
       "      <th>3</th>\n",
       "      <td>0.333333</td>\n",
       "    </tr>\n",
       "    <tr>\n",
       "      <th>4</th>\n",
       "      <td>0.666667</td>\n",
       "    </tr>\n",
       "  </tbody>\n",
       "</table>\n",
       "</div>"
      ],
      "text/plain": [
       "   Price range\n",
       "0     0.666667\n",
       "1     0.333333\n",
       "2     0.333333\n",
       "3     0.333333\n",
       "4     0.666667"
      ]
     },
     "execution_count": 23,
     "metadata": {},
     "output_type": "execute_result"
    }
   ],
   "source": [
    "dataframe[\"Price range\"] = MinMaxScaler().fit_transform(\n",
    "    dataframe[[\"Price range\"]].values\n",
    ")\n",
    "\n",
    "dataframe[[\"Price range\"]].head()"
   ]
  },
  {
   "cell_type": "markdown",
   "metadata": {},
   "source": [
    " #### Analyzing Latitude Longitude"
   ]
  },
  {
   "cell_type": "code",
   "execution_count": 24,
   "metadata": {},
   "outputs": [
    {
     "data": {
      "text/html": [
       "<div>\n",
       "<style scoped>\n",
       "    .dataframe tbody tr th:only-of-type {\n",
       "        vertical-align: middle;\n",
       "    }\n",
       "\n",
       "    .dataframe tbody tr th {\n",
       "        vertical-align: top;\n",
       "    }\n",
       "\n",
       "    .dataframe thead th {\n",
       "        text-align: right;\n",
       "    }\n",
       "</style>\n",
       "<table border=\"1\" class=\"dataframe\">\n",
       "  <thead>\n",
       "    <tr style=\"text-align: right;\">\n",
       "      <th></th>\n",
       "      <th>Latitude</th>\n",
       "      <th>Longitude</th>\n",
       "    </tr>\n",
       "  </thead>\n",
       "  <tbody>\n",
       "    <tr>\n",
       "      <th>0</th>\n",
       "      <td>0.106220</td>\n",
       "      <td>0.286113</td>\n",
       "    </tr>\n",
       "    <tr>\n",
       "      <th>1</th>\n",
       "      <td>-3.787270</td>\n",
       "      <td>-4.043894</td>\n",
       "    </tr>\n",
       "    <tr>\n",
       "      <th>2</th>\n",
       "      <td>0.106101</td>\n",
       "      <td>0.286117</td>\n",
       "    </tr>\n",
       "    <tr>\n",
       "      <th>3</th>\n",
       "      <td>0.111132</td>\n",
       "      <td>0.285367</td>\n",
       "    </tr>\n",
       "    <tr>\n",
       "      <th>4</th>\n",
       "      <td>0.111963</td>\n",
       "      <td>0.285892</td>\n",
       "    </tr>\n",
       "  </tbody>\n",
       "</table>\n",
       "</div>"
      ],
      "text/plain": [
       "   Latitude  Longitude\n",
       "0  0.106220   0.286113\n",
       "1 -3.787270  -4.043894\n",
       "2  0.106101   0.286117\n",
       "3  0.111132   0.285367\n",
       "4  0.111963   0.285892"
      ]
     },
     "execution_count": 24,
     "metadata": {},
     "output_type": "execute_result"
    }
   ],
   "source": [
    "dataframe[\"Latitude\"] = StandardScaler().fit_transform(dataframe[[\"Latitude\"]].values)\n",
    "dataframe[\"Longitude\"] = StandardScaler().fit_transform(dataframe[[\"Longitude\"]].values)\n",
    "\n",
    "dataframe[[\"Latitude\", \"Longitude\"]].head()"
   ]
  },
  {
   "cell_type": "markdown",
   "metadata": {},
   "source": [
    "#### Analyzing Average Cost for two"
   ]
  },
  {
   "cell_type": "code",
   "execution_count": 25,
   "metadata": {},
   "outputs": [
    {
     "data": {
      "image/png": "[encoded data removed]",
      "text/plain": [
       "<Figure size 1800x500 with 2 Axes>"
      ]
     },
     "metadata": {},
     "output_type": "display_data"
    }
   ],
   "source": [
    "fig, (axs1, axs2) = plt.subplots(nrows=1, ncols=2, figsize=(18, 5))\n",
    "\n",
    "sns.kdeplot(x=\"Average Cost for two\", data=dataframe, ax=axs1)\n",
    "\n",
    "pt = PowerTransformer(method=\"yeo-johnson\")\n",
    "\n",
    "pt_trf = pt.fit_transform(dataframe[[\"Average Cost for two\"]].values)\n",
    "\n",
    "sns.kdeplot(x=pt_trf.flatten(), ax=axs2)\n",
    "\n",
    "plt.show()"
   ]
  },
  {
   "cell_type": "code",
   "execution_count": 26,
   "metadata": {},
   "outputs": [
    {
     "data": {
      "text/html": [
       "<div>\n",
       "<style scoped>\n",
       "    .dataframe tbody tr th:only-of-type {\n",
       "        vertical-align: middle;\n",
       "    }\n",
       "\n",
       "    .dataframe tbody tr th {\n",
       "        vertical-align: top;\n",
       "    }\n",
       "\n",
       "    .dataframe thead th {\n",
       "        text-align: right;\n",
       "    }\n",
       "</style>\n",
       "<table border=\"1\" class=\"dataframe\">\n",
       "  <thead>\n",
       "    <tr style=\"text-align: right;\">\n",
       "      <th></th>\n",
       "      <th>Average Cost for two</th>\n",
       "    </tr>\n",
       "  </thead>\n",
       "  <tbody>\n",
       "    <tr>\n",
       "      <th>0</th>\n",
       "      <td>0.785840</td>\n",
       "    </tr>\n",
       "    <tr>\n",
       "      <th>1</th>\n",
       "      <td>0.523519</td>\n",
       "    </tr>\n",
       "    <tr>\n",
       "      <th>2</th>\n",
       "      <td>0.076398</td>\n",
       "    </tr>\n",
       "    <tr>\n",
       "      <th>3</th>\n",
       "      <td>-0.214942</td>\n",
       "    </tr>\n",
       "    <tr>\n",
       "      <th>4</th>\n",
       "      <td>1.007869</td>\n",
       "    </tr>\n",
       "  </tbody>\n",
       "</table>\n",
       "</div>"
      ],
      "text/plain": [
       "   Average Cost for two\n",
       "0              0.785840\n",
       "1              0.523519\n",
       "2              0.076398\n",
       "3             -0.214942\n",
       "4              1.007869"
      ]
     },
     "execution_count": 26,
     "metadata": {},
     "output_type": "execute_result"
    }
   ],
   "source": [
    "dataframe[\"Average Cost for two\"] = pt.fit_transform(\n",
    "    dataframe[[\"Average Cost for two\"]].values\n",
    ")\n",
    "dataframe[[\"Average Cost for two\"]].head()"
   ]
  },
  {
   "cell_type": "markdown",
   "metadata": {},
   "source": [
    "#### Analyzing Votes"
   ]
  },
  {
   "cell_type": "code",
   "execution_count": 27,
   "metadata": {},
   "outputs": [
    {
     "data": {
      "image/png": "[encoded data removed]",
      "text/plain": [
       "<Figure size 1800x500 with 2 Axes>"
      ]
     },
     "metadata": {},
     "output_type": "display_data"
    }
   ],
   "source": [
    "fig, (axs1, axs2) = plt.subplots(nrows=1, ncols=2, figsize=(18, 5))\n",
    "\n",
    "sns.kdeplot(x=\"Votes\", data=dataframe, ax=axs1)\n",
    "\n",
    "pt1 = PowerTransformer(method=\"yeo-johnson\", standardize=True)\n",
    "\n",
    "pt_trf1 = pt1.fit_transform(dataframe[[\"Votes\"]].values)\n",
    "\n",
    "sns.kdeplot(x=pt_trf1.flatten(), ax=axs2)\n",
    "\n",
    "plt.show()"
   ]
  },
  {
   "cell_type": "code",
   "execution_count": 28,
   "metadata": {},
   "outputs": [
    {
     "data": {
      "text/html": [
       "<div>\n",
       "<style scoped>\n",
       "    .dataframe tbody tr th:only-of-type {\n",
       "        vertical-align: middle;\n",
       "    }\n",
       "\n",
       "    .dataframe tbody tr th {\n",
       "        vertical-align: top;\n",
       "    }\n",
       "\n",
       "    .dataframe thead th {\n",
       "        text-align: right;\n",
       "    }\n",
       "</style>\n",
       "<table border=\"1\" class=\"dataframe\">\n",
       "  <thead>\n",
       "    <tr style=\"text-align: right;\">\n",
       "      <th></th>\n",
       "      <th>Votes</th>\n",
       "    </tr>\n",
       "  </thead>\n",
       "  <tbody>\n",
       "    <tr>\n",
       "      <th>0</th>\n",
       "      <td>0.908397</td>\n",
       "    </tr>\n",
       "    <tr>\n",
       "      <th>1</th>\n",
       "      <td>0.580569</td>\n",
       "    </tr>\n",
       "    <tr>\n",
       "      <th>2</th>\n",
       "      <td>0.716229</td>\n",
       "    </tr>\n",
       "    <tr>\n",
       "      <th>3</th>\n",
       "      <td>0.678835</td>\n",
       "    </tr>\n",
       "    <tr>\n",
       "      <th>4</th>\n",
       "      <td>1.021205</td>\n",
       "    </tr>\n",
       "  </tbody>\n",
       "</table>\n",
       "</div>"
      ],
      "text/plain": [
       "      Votes\n",
       "0  0.908397\n",
       "1  0.580569\n",
       "2  0.716229\n",
       "3  0.678835\n",
       "4  1.021205"
      ]
     },
     "execution_count": 28,
     "metadata": {},
     "output_type": "execute_result"
    }
   ],
   "source": [
    "dataframe[\"Votes\"] = pt1.fit_transform(dataframe[[\"Votes\"]].values)\n",
    "dataframe[[\"Votes\"]].head()"
   ]
  },
  {
   "cell_type": "code",
   "execution_count": 29,
   "metadata": {},
   "outputs": [
    {
     "name": "stdout",
     "output_type": "stream",
     "text": [
      "<class 'pandas.core.frame.DataFrame'>\n",
      "RangeIndex: 8652 entries, 0 to 8651\n",
      "Data columns (total 11 columns):\n",
      " #   Column                Non-Null Count  Dtype  \n",
      "---  ------                --------------  -----  \n",
      " 0   Restaurant ID         8652 non-null   int64  \n",
      " 1   City                  8652 non-null   object \n",
      " 2   Longitude             8652 non-null   float64\n",
      " 3   Latitude              8652 non-null   float64\n",
      " 4   Cuisines              8652 non-null   object \n",
      " 5   Average Cost for two  8652 non-null   float64\n",
      " 6   Has Table booking     8652 non-null   int8   \n",
      " 7   Has Online delivery   8652 non-null   int8   \n",
      " 8   Price range           8652 non-null   float64\n",
      " 9   Aggregate rating      8652 non-null   float64\n",
      " 10  Votes                 8652 non-null   float64\n",
      "dtypes: float64(6), int64(1), int8(2), object(2)\n",
      "memory usage: 625.4+ KB\n"
     ]
    }
   ],
   "source": [
    "dataframe.info()"
   ]
  },
  {
   "cell_type": "markdown",
   "metadata": {},
   "source": [
    "#### Analyzing Cuisines"
   ]
  },
  {
   "cell_type": "code",
   "execution_count": 30,
   "metadata": {},
   "outputs": [
    {
     "data": {
      "text/plain": [
       "count             8652\n",
       "unique            1392\n",
       "top       north indian\n",
       "freq               936\n",
       "Name: Cuisines, dtype: object"
      ]
     },
     "execution_count": 30,
     "metadata": {},
     "output_type": "execute_result"
    }
   ],
   "source": [
    "dataframe[\"Cuisines\"].describe()"
   ]
  },
  {
   "cell_type": "code",
   "execution_count": 31,
   "metadata": {},
   "outputs": [
    {
     "data": {
      "text/plain": [
       "0"
      ]
     },
     "execution_count": 31,
     "metadata": {},
     "output_type": "execute_result"
    }
   ],
   "source": [
    "dataframe[\"Cuisines\"].isna().sum()"
   ]
  },
  {
   "cell_type": "code",
   "execution_count": 32,
   "metadata": {},
   "outputs": [
    {
     "name": "stdout",
     "output_type": "stream",
     "text": [
      "['afghani', 'african', 'american', 'andhra', 'arabian', 'armenian', 'asian', 'assamese', 'awadhi', 'bakery', 'bbq', 'belgian', 'bengali', 'beverages', 'bihari', 'biryani', 'british', 'burger', 'burmese', 'cafe', 'cajun', 'charcoal grill', 'chettinad', 'chinese', 'continental', 'cuisine varies', 'deli', 'desserts', 'drinks only', 'european', 'fast food', 'finger food', 'french', 'german', 'goan', 'greek', 'gujarati', 'healthy food', 'hyderabadi', 'ice cream', 'indian', 'indonesian', 'iranian', 'italian', 'japanese', 'juices', 'kashmiri', 'kerala', 'korean', 'lebanese', 'lucknowi', 'maharashtrian', 'malaysian', 'malwani', 'mangalorean', 'mediterranean', 'mexican', 'middle eastern', 'mithai', 'modern indian', 'moroccan', 'mughlai', 'naga', 'nepalese', 'north eastern', 'north indian', 'oriya', 'pakistani', 'parsi', 'persian', 'pizza', 'portuguese', 'rajasthani', 'raw meats', 'salad', 'sandwich', 'seafood', 'south american', 'south indian', 'spanish', 'sri lankan', 'steak', 'street food', 'sushi', 'tea', 'tex-mex', 'thai', 'tibetan', 'turkish', 'vietnamese']\n",
      "90\n"
     ]
    }
   ],
   "source": [
    "cusisine_lst = []\n",
    "\n",
    "for item in dataframe[\"Cuisines\"].unique().tolist():\n",
    "    if item is None or item == \"\":\n",
    "        continue\n",
    "    cusisine_lst.extend([*item.split(\",\")])\n",
    "\n",
    "cusisine_lst = [str(item).strip() for item in cusisine_lst]\n",
    "cusisine_lst = list(set(cusisine_lst))\n",
    "cusisine_lst.sort()\n",
    "print(cusisine_lst)\n",
    "print(len(cusisine_lst))"
   ]
  },
  {
   "cell_type": "code",
   "execution_count": 33,
   "metadata": {},
   "outputs": [
    {
     "data": {
      "application/vnd.jupyter.widget-view+json": {
       "model_id": "d02c61fe037142e0adf0a00e459213fd",
       "version_major": 2,
       "version_minor": 0
      },
      "text/plain": [
       "transform_cusines:   0%|          | 0/8652 [00:00<?, ?it/s]"
      ]
     },
     "metadata": {},
     "output_type": "display_data"
    },
    {
     "name": "stdout",
     "output_type": "stream",
     "text": [
      "dataset (8652, 12)\n"
     ]
    }
   ],
   "source": [
    "def transform_cusines(cusines_data):\n",
    "    c_items = cusines_data.split(\",\")\n",
    "    c_items = [str(item).strip() for item in c_items]\n",
    "    indexs_lts = [cusisine_lst.index(item) for item in c_items]\n",
    "\n",
    "    return_lst = [0] * len(cusisine_lst)\n",
    "    for idx in indexs_lts:\n",
    "        return_lst[idx] = 1\n",
    "    return return_lst\n",
    "\n",
    "\n",
    "tqdm.pandas(desc=\"transform_cusines\")\n",
    "dataframe[\"cusines_list\"] = dataframe[\"Cuisines\"].progress_apply(\n",
    "    lambda x: transform_cusines(x)\n",
    ")\n",
    "print(f\"dataset {dataframe.shape}\")"
   ]
  },
  {
   "cell_type": "code",
   "execution_count": 34,
   "metadata": {},
   "outputs": [
    {
     "data": {
      "text/plain": [
       "Index(['Restaurant ID', 'City', 'Longitude', 'Latitude', 'Cuisines',\n",
       "       'Average Cost for two', 'Has Table booking', 'Has Online delivery',\n",
       "       'Price range', 'Aggregate rating', 'Votes', 'cusines_list'],\n",
       "      dtype='object')"
      ]
     },
     "execution_count": 34,
     "metadata": {},
     "output_type": "execute_result"
    }
   ],
   "source": [
    "dataframe.columns"
   ]
  },
  {
   "cell_type": "code",
   "execution_count": 35,
   "metadata": {},
   "outputs": [
    {
     "name": "stdout",
     "output_type": "stream",
     "text": [
      "cusines_columns shape (8652, 90)\n"
     ]
    },
    {
     "data": {
      "text/html": [
       "<div>\n",
       "<style scoped>\n",
       "    .dataframe tbody tr th:only-of-type {\n",
       "        vertical-align: middle;\n",
       "    }\n",
       "\n",
       "    .dataframe tbody tr th {\n",
       "        vertical-align: top;\n",
       "    }\n",
       "\n",
       "    .dataframe thead th {\n",
       "        text-align: right;\n",
       "    }\n",
       "</style>\n",
       "<table border=\"1\" class=\"dataframe\">\n",
       "  <thead>\n",
       "    <tr style=\"text-align: right;\">\n",
       "      <th></th>\n",
       "      <th>afghani</th>\n",
       "      <th>african</th>\n",
       "      <th>american</th>\n",
       "      <th>andhra</th>\n",
       "      <th>arabian</th>\n",
       "      <th>armenian</th>\n",
       "      <th>asian</th>\n",
       "      <th>assamese</th>\n",
       "      <th>awadhi</th>\n",
       "      <th>bakery</th>\n",
       "      <th>...</th>\n",
       "      <th>sri lankan</th>\n",
       "      <th>steak</th>\n",
       "      <th>street food</th>\n",
       "      <th>sushi</th>\n",
       "      <th>tea</th>\n",
       "      <th>tex-mex</th>\n",
       "      <th>thai</th>\n",
       "      <th>tibetan</th>\n",
       "      <th>turkish</th>\n",
       "      <th>vietnamese</th>\n",
       "    </tr>\n",
       "  </thead>\n",
       "  <tbody>\n",
       "    <tr>\n",
       "      <th>0</th>\n",
       "      <td>0</td>\n",
       "      <td>0</td>\n",
       "      <td>0</td>\n",
       "      <td>0</td>\n",
       "      <td>0</td>\n",
       "      <td>0</td>\n",
       "      <td>0</td>\n",
       "      <td>0</td>\n",
       "      <td>0</td>\n",
       "      <td>0</td>\n",
       "      <td>...</td>\n",
       "      <td>0</td>\n",
       "      <td>0</td>\n",
       "      <td>0</td>\n",
       "      <td>0</td>\n",
       "      <td>0</td>\n",
       "      <td>0</td>\n",
       "      <td>0</td>\n",
       "      <td>0</td>\n",
       "      <td>0</td>\n",
       "      <td>0</td>\n",
       "    </tr>\n",
       "    <tr>\n",
       "      <th>1</th>\n",
       "      <td>0</td>\n",
       "      <td>0</td>\n",
       "      <td>0</td>\n",
       "      <td>0</td>\n",
       "      <td>0</td>\n",
       "      <td>0</td>\n",
       "      <td>0</td>\n",
       "      <td>0</td>\n",
       "      <td>0</td>\n",
       "      <td>0</td>\n",
       "      <td>...</td>\n",
       "      <td>0</td>\n",
       "      <td>0</td>\n",
       "      <td>0</td>\n",
       "      <td>0</td>\n",
       "      <td>0</td>\n",
       "      <td>0</td>\n",
       "      <td>0</td>\n",
       "      <td>0</td>\n",
       "      <td>0</td>\n",
       "      <td>0</td>\n",
       "    </tr>\n",
       "    <tr>\n",
       "      <th>2</th>\n",
       "      <td>0</td>\n",
       "      <td>0</td>\n",
       "      <td>0</td>\n",
       "      <td>0</td>\n",
       "      <td>0</td>\n",
       "      <td>0</td>\n",
       "      <td>0</td>\n",
       "      <td>0</td>\n",
       "      <td>0</td>\n",
       "      <td>0</td>\n",
       "      <td>...</td>\n",
       "      <td>0</td>\n",
       "      <td>0</td>\n",
       "      <td>0</td>\n",
       "      <td>0</td>\n",
       "      <td>0</td>\n",
       "      <td>0</td>\n",
       "      <td>0</td>\n",
       "      <td>0</td>\n",
       "      <td>0</td>\n",
       "      <td>0</td>\n",
       "    </tr>\n",
       "    <tr>\n",
       "      <th>3</th>\n",
       "      <td>0</td>\n",
       "      <td>0</td>\n",
       "      <td>0</td>\n",
       "      <td>0</td>\n",
       "      <td>0</td>\n",
       "      <td>0</td>\n",
       "      <td>0</td>\n",
       "      <td>0</td>\n",
       "      <td>0</td>\n",
       "      <td>0</td>\n",
       "      <td>...</td>\n",
       "      <td>0</td>\n",
       "      <td>0</td>\n",
       "      <td>0</td>\n",
       "      <td>0</td>\n",
       "      <td>0</td>\n",
       "      <td>0</td>\n",
       "      <td>0</td>\n",
       "      <td>0</td>\n",
       "      <td>0</td>\n",
       "      <td>0</td>\n",
       "    </tr>\n",
       "    <tr>\n",
       "      <th>4</th>\n",
       "      <td>0</td>\n",
       "      <td>0</td>\n",
       "      <td>0</td>\n",
       "      <td>0</td>\n",
       "      <td>0</td>\n",
       "      <td>0</td>\n",
       "      <td>0</td>\n",
       "      <td>0</td>\n",
       "      <td>0</td>\n",
       "      <td>0</td>\n",
       "      <td>...</td>\n",
       "      <td>0</td>\n",
       "      <td>0</td>\n",
       "      <td>0</td>\n",
       "      <td>0</td>\n",
       "      <td>0</td>\n",
       "      <td>0</td>\n",
       "      <td>0</td>\n",
       "      <td>0</td>\n",
       "      <td>0</td>\n",
       "      <td>0</td>\n",
       "    </tr>\n",
       "  </tbody>\n",
       "</table>\n",
       "<p>5 rows × 90 columns</p>\n",
       "</div>"
      ],
      "text/plain": [
       "   afghani  african  american  andhra  arabian  armenian  asian  assamese  \\\n",
       "0        0        0         0       0        0         0      0         0   \n",
       "1        0        0         0       0        0         0      0         0   \n",
       "2        0        0         0       0        0         0      0         0   \n",
       "3        0        0         0       0        0         0      0         0   \n",
       "4        0        0         0       0        0         0      0         0   \n",
       "\n",
       "   awadhi  bakery  ...  sri lankan  steak  street food  sushi  tea  tex-mex  \\\n",
       "0       0       0  ...           0      0            0      0    0        0   \n",
       "1       0       0  ...           0      0            0      0    0        0   \n",
       "2       0       0  ...           0      0            0      0    0        0   \n",
       "3       0       0  ...           0      0            0      0    0        0   \n",
       "4       0       0  ...           0      0            0      0    0        0   \n",
       "\n",
       "   thai  tibetan  turkish  vietnamese  \n",
       "0     0        0        0           0  \n",
       "1     0        0        0           0  \n",
       "2     0        0        0           0  \n",
       "3     0        0        0           0  \n",
       "4     0        0        0           0  \n",
       "\n",
       "[5 rows x 90 columns]"
      ]
     },
     "execution_count": 35,
     "metadata": {},
     "output_type": "execute_result"
    }
   ],
   "source": [
    "cusines_columns = pd.DataFrame(\n",
    "    dataframe[\"cusines_list\"].to_list(), columns=cusisine_lst\n",
    ")\n",
    "\n",
    "cusines_columns.set_index(dataframe.index, inplace=True)\n",
    "\n",
    "cusines_columns = cusines_columns.astype(\"int8\")\n",
    "\n",
    "print(f\"cusines_columns shape {cusines_columns.shape}\")\n",
    "\n",
    "cusines_columns.head()"
   ]
  },
  {
   "cell_type": "code",
   "execution_count": 36,
   "metadata": {},
   "outputs": [
    {
     "name": "stdout",
     "output_type": "stream",
     "text": [
      "<class 'pandas.core.frame.DataFrame'>\n",
      "RangeIndex: 8652 entries, 0 to 8651\n",
      "Data columns (total 90 columns):\n",
      " #   Column          Non-Null Count  Dtype\n",
      "---  ------          --------------  -----\n",
      " 0   afghani         8652 non-null   int8 \n",
      " 1   african         8652 non-null   int8 \n",
      " 2   american        8652 non-null   int8 \n",
      " 3   andhra          8652 non-null   int8 \n",
      " 4   arabian         8652 non-null   int8 \n",
      " 5   armenian        8652 non-null   int8 \n",
      " 6   asian           8652 non-null   int8 \n",
      " 7   assamese        8652 non-null   int8 \n",
      " 8   awadhi          8652 non-null   int8 \n",
      " 9   bakery          8652 non-null   int8 \n",
      " 10  bbq             8652 non-null   int8 \n",
      " 11  belgian         8652 non-null   int8 \n",
      " 12  bengali         8652 non-null   int8 \n",
      " 13  beverages       8652 non-null   int8 \n",
      " 14  bihari          8652 non-null   int8 \n",
      " 15  biryani         8652 non-null   int8 \n",
      " 16  british         8652 non-null   int8 \n",
      " 17  burger          8652 non-null   int8 \n",
      " 18  burmese         8652 non-null   int8 \n",
      " 19  cafe            8652 non-null   int8 \n",
      " 20  cajun           8652 non-null   int8 \n",
      " 21  charcoal grill  8652 non-null   int8 \n",
      " 22  chettinad       8652 non-null   int8 \n",
      " 23  chinese         8652 non-null   int8 \n",
      " 24  continental     8652 non-null   int8 \n",
      " 25  cuisine varies  8652 non-null   int8 \n",
      " 26  deli            8652 non-null   int8 \n",
      " 27  desserts        8652 non-null   int8 \n",
      " 28  drinks only     8652 non-null   int8 \n",
      " 29  european        8652 non-null   int8 \n",
      " 30  fast food       8652 non-null   int8 \n",
      " 31  finger food     8652 non-null   int8 \n",
      " 32  french          8652 non-null   int8 \n",
      " 33  german          8652 non-null   int8 \n",
      " 34  goan            8652 non-null   int8 \n",
      " 35  greek           8652 non-null   int8 \n",
      " 36  gujarati        8652 non-null   int8 \n",
      " 37  healthy food    8652 non-null   int8 \n",
      " 38  hyderabadi      8652 non-null   int8 \n",
      " 39  ice cream       8652 non-null   int8 \n",
      " 40  indian          8652 non-null   int8 \n",
      " 41  indonesian      8652 non-null   int8 \n",
      " 42  iranian         8652 non-null   int8 \n",
      " 43  italian         8652 non-null   int8 \n",
      " 44  japanese        8652 non-null   int8 \n",
      " 45  juices          8652 non-null   int8 \n",
      " 46  kashmiri        8652 non-null   int8 \n",
      " 47  kerala          8652 non-null   int8 \n",
      " 48  korean          8652 non-null   int8 \n",
      " 49  lebanese        8652 non-null   int8 \n",
      " 50  lucknowi        8652 non-null   int8 \n",
      " 51  maharashtrian   8652 non-null   int8 \n",
      " 52  malaysian       8652 non-null   int8 \n",
      " 53  malwani         8652 non-null   int8 \n",
      " 54  mangalorean     8652 non-null   int8 \n",
      " 55  mediterranean   8652 non-null   int8 \n",
      " 56  mexican         8652 non-null   int8 \n",
      " 57  middle eastern  8652 non-null   int8 \n",
      " 58  mithai          8652 non-null   int8 \n",
      " 59  modern indian   8652 non-null   int8 \n",
      " 60  moroccan        8652 non-null   int8 \n",
      " 61  mughlai         8652 non-null   int8 \n",
      " 62  naga            8652 non-null   int8 \n",
      " 63  nepalese        8652 non-null   int8 \n",
      " 64  north eastern   8652 non-null   int8 \n",
      " 65  north indian    8652 non-null   int8 \n",
      " 66  oriya           8652 non-null   int8 \n",
      " 67  pakistani       8652 non-null   int8 \n",
      " 68  parsi           8652 non-null   int8 \n",
      " 69  persian         8652 non-null   int8 \n",
      " 70  pizza           8652 non-null   int8 \n",
      " 71  portuguese      8652 non-null   int8 \n",
      " 72  rajasthani      8652 non-null   int8 \n",
      " 73  raw meats       8652 non-null   int8 \n",
      " 74  salad           8652 non-null   int8 \n",
      " 75  sandwich        8652 non-null   int8 \n",
      " 76  seafood         8652 non-null   int8 \n",
      " 77  south american  8652 non-null   int8 \n",
      " 78  south indian    8652 non-null   int8 \n",
      " 79  spanish         8652 non-null   int8 \n",
      " 80  sri lankan      8652 non-null   int8 \n",
      " 81  steak           8652 non-null   int8 \n",
      " 82  street food     8652 non-null   int8 \n",
      " 83  sushi           8652 non-null   int8 \n",
      " 84  tea             8652 non-null   int8 \n",
      " 85  tex-mex         8652 non-null   int8 \n",
      " 86  thai            8652 non-null   int8 \n",
      " 87  tibetan         8652 non-null   int8 \n",
      " 88  turkish         8652 non-null   int8 \n",
      " 89  vietnamese      8652 non-null   int8 \n",
      "dtypes: int8(90)\n",
      "memory usage: 760.6 KB\n"
     ]
    }
   ],
   "source": [
    "cusines_columns.info()"
   ]
  },
  {
   "cell_type": "code",
   "execution_count": 37,
   "metadata": {},
   "outputs": [
    {
     "name": "stdout",
     "output_type": "stream",
     "text": [
      "cusines_columns shape (8652, 100)\n",
      "Index(['Restaurant ID', 'City', 'Longitude', 'Latitude',\n",
      "       'Average Cost for two', 'Has Table booking', 'Has Online delivery',\n",
      "       'Price range', 'Aggregate rating', 'Votes', 'afghani', 'african',\n",
      "       'american', 'andhra', 'arabian', 'armenian', 'asian', 'assamese',\n",
      "       'awadhi', 'bakery', 'bbq', 'belgian', 'bengali', 'beverages', 'bihari',\n",
      "       'biryani', 'british', 'burger', 'burmese', 'cafe', 'cajun',\n",
      "       'charcoal grill', 'chettinad', 'chinese', 'continental',\n",
      "       'cuisine varies', 'deli', 'desserts', 'drinks only', 'european',\n",
      "       'fast food', 'finger food', 'french', 'german', 'goan', 'greek',\n",
      "       'gujarati', 'healthy food', 'hyderabadi', 'ice cream', 'indian',\n",
      "       'indonesian', 'iranian', 'italian', 'japanese', 'juices', 'kashmiri',\n",
      "       'kerala', 'korean', 'lebanese', 'lucknowi', 'maharashtrian',\n",
      "       'malaysian', 'malwani', 'mangalorean', 'mediterranean', 'mexican',\n",
      "       'middle eastern', 'mithai', 'modern indian', 'moroccan', 'mughlai',\n",
      "       'naga', 'nepalese', 'north eastern', 'north indian', 'oriya',\n",
      "       'pakistani', 'parsi', 'persian', 'pizza', 'portuguese', 'rajasthani',\n",
      "       'raw meats', 'salad', 'sandwich', 'seafood', 'south american',\n",
      "       'south indian', 'spanish', 'sri lankan', 'steak', 'street food',\n",
      "       'sushi', 'tea', 'tex-mex', 'thai', 'tibetan', 'turkish', 'vietnamese'],\n",
      "      dtype='object')\n"
     ]
    }
   ],
   "source": [
    "dataframe.drop(columns=[\"cusines_list\", \"Cuisines\"], inplace=True)\n",
    "\n",
    "dataframe = pd.concat([dataframe, cusines_columns], axis=1)\n",
    "\n",
    "print(f\"cusines_columns shape {dataframe.shape}\")\n",
    "\n",
    "print(dataframe.columns)"
   ]
  },
  {
   "cell_type": "code",
   "execution_count": 38,
   "metadata": {},
   "outputs": [
    {
     "name": "stdout",
     "output_type": "stream",
     "text": [
      "Series([], dtype: int64)\n"
     ]
    }
   ],
   "source": [
    "isna = dataframe.isna().sum()\n",
    "print(isna[isna > 0])"
   ]
  },
  {
   "cell_type": "code",
   "execution_count": 39,
   "metadata": {},
   "outputs": [],
   "source": [
    "dataframe = dataframe.astype({col: \"int8\" for col in cusisine_lst})"
   ]
  },
  {
   "cell_type": "code",
   "execution_count": 40,
   "metadata": {},
   "outputs": [
    {
     "name": "stdout",
     "output_type": "stream",
     "text": [
      "<class 'pandas.core.frame.DataFrame'>\n",
      "RangeIndex: 8652 entries, 0 to 8651\n",
      "Data columns (total 100 columns):\n",
      " #   Column                Non-Null Count  Dtype  \n",
      "---  ------                --------------  -----  \n",
      " 0   Restaurant ID         8652 non-null   int64  \n",
      " 1   City                  8652 non-null   object \n",
      " 2   Longitude             8652 non-null   float64\n",
      " 3   Latitude              8652 non-null   float64\n",
      " 4   Average Cost for two  8652 non-null   float64\n",
      " 5   Has Table booking     8652 non-null   int8   \n",
      " 6   Has Online delivery   8652 non-null   int8   \n",
      " 7   Price range           8652 non-null   float64\n",
      " 8   Aggregate rating      8652 non-null   float64\n",
      " 9   Votes                 8652 non-null   float64\n",
      " 10  afghani               8652 non-null   int8   \n",
      " 11  african               8652 non-null   int8   \n",
      " 12  american              8652 non-null   int8   \n",
      " 13  andhra                8652 non-null   int8   \n",
      " 14  arabian               8652 non-null   int8   \n",
      " 15  armenian              8652 non-null   int8   \n",
      " 16  asian                 8652 non-null   int8   \n",
      " 17  assamese              8652 non-null   int8   \n",
      " 18  awadhi                8652 non-null   int8   \n",
      " 19  bakery                8652 non-null   int8   \n",
      " 20  bbq                   8652 non-null   int8   \n",
      " 21  belgian               8652 non-null   int8   \n",
      " 22  bengali               8652 non-null   int8   \n",
      " 23  beverages             8652 non-null   int8   \n",
      " 24  bihari                8652 non-null   int8   \n",
      " 25  biryani               8652 non-null   int8   \n",
      " 26  british               8652 non-null   int8   \n",
      " 27  burger                8652 non-null   int8   \n",
      " 28  burmese               8652 non-null   int8   \n",
      " 29  cafe                  8652 non-null   int8   \n",
      " 30  cajun                 8652 non-null   int8   \n",
      " 31  charcoal grill        8652 non-null   int8   \n",
      " 32  chettinad             8652 non-null   int8   \n",
      " 33  chinese               8652 non-null   int8   \n",
      " 34  continental           8652 non-null   int8   \n",
      " 35  cuisine varies        8652 non-null   int8   \n",
      " 36  deli                  8652 non-null   int8   \n",
      " 37  desserts              8652 non-null   int8   \n",
      " 38  drinks only           8652 non-null   int8   \n",
      " 39  european              8652 non-null   int8   \n",
      " 40  fast food             8652 non-null   int8   \n",
      " 41  finger food           8652 non-null   int8   \n",
      " 42  french                8652 non-null   int8   \n",
      " 43  german                8652 non-null   int8   \n",
      " 44  goan                  8652 non-null   int8   \n",
      " 45  greek                 8652 non-null   int8   \n",
      " 46  gujarati              8652 non-null   int8   \n",
      " 47  healthy food          8652 non-null   int8   \n",
      " 48  hyderabadi            8652 non-null   int8   \n",
      " 49  ice cream             8652 non-null   int8   \n",
      " 50  indian                8652 non-null   int8   \n",
      " 51  indonesian            8652 non-null   int8   \n",
      " 52  iranian               8652 non-null   int8   \n",
      " 53  italian               8652 non-null   int8   \n",
      " 54  japanese              8652 non-null   int8   \n",
      " 55  juices                8652 non-null   int8   \n",
      " 56  kashmiri              8652 non-null   int8   \n",
      " 57  kerala                8652 non-null   int8   \n",
      " 58  korean                8652 non-null   int8   \n",
      " 59  lebanese              8652 non-null   int8   \n",
      " 60  lucknowi              8652 non-null   int8   \n",
      " 61  maharashtrian         8652 non-null   int8   \n",
      " 62  malaysian             8652 non-null   int8   \n",
      " 63  malwani               8652 non-null   int8   \n",
      " 64  mangalorean           8652 non-null   int8   \n",
      " 65  mediterranean         8652 non-null   int8   \n",
      " 66  mexican               8652 non-null   int8   \n",
      " 67  middle eastern        8652 non-null   int8   \n",
      " 68  mithai                8652 non-null   int8   \n",
      " 69  modern indian         8652 non-null   int8   \n",
      " 70  moroccan              8652 non-null   int8   \n",
      " 71  mughlai               8652 non-null   int8   \n",
      " 72  naga                  8652 non-null   int8   \n",
      " 73  nepalese              8652 non-null   int8   \n",
      " 74  north eastern         8652 non-null   int8   \n",
      " 75  north indian          8652 non-null   int8   \n",
      " 76  oriya                 8652 non-null   int8   \n",
      " 77  pakistani             8652 non-null   int8   \n",
      " 78  parsi                 8652 non-null   int8   \n",
      " 79  persian               8652 non-null   int8   \n",
      " 80  pizza                 8652 non-null   int8   \n",
      " 81  portuguese            8652 non-null   int8   \n",
      " 82  rajasthani            8652 non-null   int8   \n",
      " 83  raw meats             8652 non-null   int8   \n",
      " 84  salad                 8652 non-null   int8   \n",
      " 85  sandwich              8652 non-null   int8   \n",
      " 86  seafood               8652 non-null   int8   \n",
      " 87  south american        8652 non-null   int8   \n",
      " 88  south indian          8652 non-null   int8   \n",
      " 89  spanish               8652 non-null   int8   \n",
      " 90  sri lankan            8652 non-null   int8   \n",
      " 91  steak                 8652 non-null   int8   \n",
      " 92  street food           8652 non-null   int8   \n",
      " 93  sushi                 8652 non-null   int8   \n",
      " 94  tea                   8652 non-null   int8   \n",
      " 95  tex-mex               8652 non-null   int8   \n",
      " 96  thai                  8652 non-null   int8   \n",
      " 97  tibetan               8652 non-null   int8   \n",
      " 98  turkish               8652 non-null   int8   \n",
      " 99  vietnamese            8652 non-null   int8   \n",
      "dtypes: float64(6), int64(1), int8(92), object(1)\n",
      "memory usage: 1.3+ MB\n"
     ]
    }
   ],
   "source": [
    "dataframe.info()"
   ]
  },
  {
   "cell_type": "code",
   "execution_count": null,
   "metadata": {},
   "outputs": [],
   "source": []
  }
 ],
 "metadata": {
  "kernelspec": {
   "display_name": "dataScience",
   "language": "python",
   "name": "datascience"
  },
  "language_info": {
   "codemirror_mode": {
    "name": "ipython",
    "version": 3
   },
   "file_extension": ".py",
   "mimetype": "text/x-python",
   "name": "python",
   "nbconvert_exporter": "python",
   "pygments_lexer": "ipython3",
   "version": "3.9.5"
  },
  "toc": {
   "base_numbering": 1,
   "nav_menu": {},
   "number_sections": true,
   "sideBar": true,
   "skip_h1_title": false,
   "title_cell": "Table of Contents",
   "title_sidebar": "Contents",
   "toc_cell": false,
   "toc_position": {},
   "toc_section_display": true,
   "toc_window_display": false
  },
  "vscode": {
   "interpreter": {
    "hash": "4cff3abf1678755e0069fd79299a535fe1940bcd71a6b01d9f4386710b2b163f"
   }
  }
 },
 "nbformat": 4,
 "nbformat_minor": 2
}
