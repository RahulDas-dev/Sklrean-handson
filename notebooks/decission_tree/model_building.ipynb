{
 "cells": [
  {
   "cell_type": "markdown",
   "id": "08319395",
   "metadata": {},
   "source": [
    "### Import Statement"
   ]
  },
  {
   "cell_type": "code",
   "execution_count": 1,
   "id": "5494dffe",
   "metadata": {},
   "outputs": [],
   "source": [
    "import os\n",
    "import sys\n",
    "import random\n",
    "from pprint import pprint\n",
    "\n",
    "import numpy as np\n",
    "import pandas as pd\n",
    "import matplotlib.pyplot as plt\n",
    "import seaborn as sns\n",
    "\n",
    "\n",
    "from sklearn import set_config\n",
    "from sklearn.pipeline import Pipeline\n",
    "from sklearn.compose import ColumnTransformer\n",
    "\n",
    "from sklearn.base import BaseEstimator, TransformerMixin\n",
    "from sklearn.preprocessing import OrdinalEncoder, LabelEncoder\n",
    "from sklearn.preprocessing import FunctionTransformer\n",
    "from sklearn.impute import SimpleImputer\n",
    "\n",
    "from sklearn.model_selection import GridSearchCV, cross_val_score\n",
    "\n",
    "from sklearn.tree import DecisionTreeClassifier\n",
    "\n",
    "from tqdm.notebook import tqdm"
   ]
  },
  {
   "cell_type": "markdown",
   "id": "fcc7bcc3",
   "metadata": {},
   "source": [
    "#### Configuration "
   ]
  },
  {
   "cell_type": "code",
   "execution_count": 2,
   "id": "f512f5c7",
   "metadata": {},
   "outputs": [],
   "source": [
    "sns.set_theme(style=\"darkgrid\")\n",
    "sns.set(style='darkgrid', context='notebook', palette='rainbow')\n",
    "sns.set(rc={'figure.figsize':(4,3)})\n",
    "pd.set_option(\"display.max_colwidth\", 1000)\n",
    "set_config(display=\"diagram\")\n",
    "random.seed(100)\n",
    "tqdm.pandas()"
   ]
  },
  {
   "cell_type": "markdown",
   "id": "777ba6c1",
   "metadata": {},
   "source": [
    "#### Data Source"
   ]
  },
  {
   "cell_type": "code",
   "execution_count": 3,
   "id": "bccf0abc",
   "metadata": {},
   "outputs": [
    {
     "name": "stdout",
     "output_type": "stream",
     "text": [
      "datafame shape (1728, 7)\n"
     ]
    },
    {
     "data": {
      "text/html": [
       "<div>\n",
       "<style scoped>\n",
       "    .dataframe tbody tr th:only-of-type {\n",
       "        vertical-align: middle;\n",
       "    }\n",
       "\n",
       "    .dataframe tbody tr th {\n",
       "        vertical-align: top;\n",
       "    }\n",
       "\n",
       "    .dataframe thead th {\n",
       "        text-align: right;\n",
       "    }\n",
       "</style>\n",
       "<table border=\"1\" class=\"dataframe\">\n",
       "  <thead>\n",
       "    <tr style=\"text-align: right;\">\n",
       "      <th></th>\n",
       "      <th>buying</th>\n",
       "      <th>maint</th>\n",
       "      <th>doors</th>\n",
       "      <th>persons</th>\n",
       "      <th>lug_boot</th>\n",
       "      <th>safety</th>\n",
       "      <th>class</th>\n",
       "    </tr>\n",
       "  </thead>\n",
       "  <tbody>\n",
       "    <tr>\n",
       "      <th>0</th>\n",
       "      <td>vhigh</td>\n",
       "      <td>vhigh</td>\n",
       "      <td>2</td>\n",
       "      <td>2</td>\n",
       "      <td>small</td>\n",
       "      <td>low</td>\n",
       "      <td>unacc</td>\n",
       "    </tr>\n",
       "    <tr>\n",
       "      <th>1</th>\n",
       "      <td>vhigh</td>\n",
       "      <td>vhigh</td>\n",
       "      <td>2</td>\n",
       "      <td>2</td>\n",
       "      <td>small</td>\n",
       "      <td>med</td>\n",
       "      <td>unacc</td>\n",
       "    </tr>\n",
       "    <tr>\n",
       "      <th>2</th>\n",
       "      <td>vhigh</td>\n",
       "      <td>vhigh</td>\n",
       "      <td>2</td>\n",
       "      <td>2</td>\n",
       "      <td>small</td>\n",
       "      <td>high</td>\n",
       "      <td>unacc</td>\n",
       "    </tr>\n",
       "    <tr>\n",
       "      <th>3</th>\n",
       "      <td>vhigh</td>\n",
       "      <td>vhigh</td>\n",
       "      <td>2</td>\n",
       "      <td>2</td>\n",
       "      <td>med</td>\n",
       "      <td>low</td>\n",
       "      <td>unacc</td>\n",
       "    </tr>\n",
       "    <tr>\n",
       "      <th>4</th>\n",
       "      <td>vhigh</td>\n",
       "      <td>vhigh</td>\n",
       "      <td>2</td>\n",
       "      <td>2</td>\n",
       "      <td>med</td>\n",
       "      <td>med</td>\n",
       "      <td>unacc</td>\n",
       "    </tr>\n",
       "  </tbody>\n",
       "</table>\n",
       "</div>"
      ],
      "text/plain": [
       "  buying  maint doors persons lug_boot safety  class\n",
       "0  vhigh  vhigh     2       2    small    low  unacc\n",
       "1  vhigh  vhigh     2       2    small    med  unacc\n",
       "2  vhigh  vhigh     2       2    small   high  unacc\n",
       "3  vhigh  vhigh     2       2      med    low  unacc\n",
       "4  vhigh  vhigh     2       2      med    med  unacc"
      ]
     },
     "execution_count": 3,
     "metadata": {},
     "output_type": "execute_result"
    }
   ],
   "source": [
    "datasource = 'D:/codespace/python/datascience-ml-handson/data/car_evaluation/car.data'\n",
    "modelpath = 'D:/codespace/python/datascience-ml-handson/model'\n",
    "\n",
    "if os.path.isfile(datasource) is False:\n",
    "    raise FileNotFoundError(f'data souce {datasource} is not Found')\n",
    "    \n",
    "dataframe = pd.read_csv(datasource, header=None)  \n",
    "\n",
    "dataframe.columns = ['buying','maint','doors','persons','lug_boot','safety','class']\n",
    "\n",
    "print(f'datafame shape {dataframe.shape}')\n",
    "\n",
    "dataframe.head()"
   ]
  },
  {
   "cell_type": "code",
   "execution_count": 4,
   "id": "ce385698",
   "metadata": {},
   "outputs": [
    {
     "name": "stdout",
     "output_type": "stream",
     "text": [
      "{'high': 432, 'low': 432, 'med': 432, 'vhigh': 432}\n",
      "{'high': 432, 'low': 432, 'med': 432, 'vhigh': 432}\n",
      "{'2': 432, '3': 432, '4': 432, '5more': 432}\n",
      "{'2': 576, '4': 576, 'more': 576}\n",
      "{'big': 576, 'med': 576, 'small': 576}\n",
      "{'acc': 384, 'good': 69, 'unacc': 1210, 'vgood': 65}\n"
     ]
    }
   ],
   "source": [
    "pprint(dataframe['buying'].value_counts().to_dict())\n",
    "pprint(dataframe['maint'].value_counts().to_dict())\n",
    "pprint(dataframe['doors'].value_counts().to_dict())\n",
    "pprint(dataframe['persons'].value_counts().to_dict())\n",
    "pprint(dataframe['lug_boot'].value_counts().to_dict())\n",
    "pprint(dataframe['class'].value_counts().to_dict())"
   ]
  },
  {
   "cell_type": "code",
   "execution_count": 5,
   "id": "a8777d51",
   "metadata": {},
   "outputs": [
    {
     "name": "stdout",
     "output_type": "stream",
     "text": [
      "<class 'pandas.core.frame.DataFrame'>\n",
      "RangeIndex: 1728 entries, 0 to 1727\n",
      "Data columns (total 7 columns):\n",
      " #   Column    Non-Null Count  Dtype \n",
      "---  ------    --------------  ----- \n",
      " 0   buying    1728 non-null   object\n",
      " 1   maint     1728 non-null   object\n",
      " 2   doors     1728 non-null   object\n",
      " 3   persons   1728 non-null   object\n",
      " 4   lug_boot  1728 non-null   object\n",
      " 5   safety    1728 non-null   object\n",
      " 6   class     1728 non-null   object\n",
      "dtypes: object(7)\n",
      "memory usage: 94.6+ KB\n"
     ]
    }
   ],
   "source": [
    "#dataframe['doors'].replace(to_replace={'5more':'5'}, inplace=True)\n",
    "#dataframe['doors'] = dataframe['doors'].astype(int)\n",
    "#dataframe['persons'] = dataframe['persons'].astype(int)\n",
    "features_column = ['buying','maint','doors','persons','lug_boot','safety']\n",
    "target_column = 'class'\n",
    "dataframe.info()"
   ]
  },
  {
   "cell_type": "code",
   "execution_count": 6,
   "id": "9324237c",
   "metadata": {},
   "outputs": [
    {
     "data": {
      "text/html": [
       "<div>\n",
       "<style scoped>\n",
       "    .dataframe tbody tr th:only-of-type {\n",
       "        vertical-align: middle;\n",
       "    }\n",
       "\n",
       "    .dataframe tbody tr th {\n",
       "        vertical-align: top;\n",
       "    }\n",
       "\n",
       "    .dataframe thead th {\n",
       "        text-align: right;\n",
       "    }\n",
       "</style>\n",
       "<table border=\"1\" class=\"dataframe\">\n",
       "  <thead>\n",
       "    <tr style=\"text-align: right;\">\n",
       "      <th></th>\n",
       "      <th>buying</th>\n",
       "      <th>maint</th>\n",
       "      <th>doors</th>\n",
       "      <th>persons</th>\n",
       "      <th>lug_boot</th>\n",
       "      <th>safety</th>\n",
       "      <th>class</th>\n",
       "    </tr>\n",
       "  </thead>\n",
       "  <tbody>\n",
       "    <tr>\n",
       "      <th>0</th>\n",
       "      <td>vhigh</td>\n",
       "      <td>vhigh</td>\n",
       "      <td>2</td>\n",
       "      <td>2</td>\n",
       "      <td>small</td>\n",
       "      <td>low</td>\n",
       "      <td>2</td>\n",
       "    </tr>\n",
       "    <tr>\n",
       "      <th>1</th>\n",
       "      <td>vhigh</td>\n",
       "      <td>vhigh</td>\n",
       "      <td>2</td>\n",
       "      <td>2</td>\n",
       "      <td>small</td>\n",
       "      <td>med</td>\n",
       "      <td>2</td>\n",
       "    </tr>\n",
       "    <tr>\n",
       "      <th>2</th>\n",
       "      <td>vhigh</td>\n",
       "      <td>vhigh</td>\n",
       "      <td>2</td>\n",
       "      <td>2</td>\n",
       "      <td>small</td>\n",
       "      <td>high</td>\n",
       "      <td>2</td>\n",
       "    </tr>\n",
       "    <tr>\n",
       "      <th>3</th>\n",
       "      <td>vhigh</td>\n",
       "      <td>vhigh</td>\n",
       "      <td>2</td>\n",
       "      <td>2</td>\n",
       "      <td>med</td>\n",
       "      <td>low</td>\n",
       "      <td>2</td>\n",
       "    </tr>\n",
       "    <tr>\n",
       "      <th>4</th>\n",
       "      <td>vhigh</td>\n",
       "      <td>vhigh</td>\n",
       "      <td>2</td>\n",
       "      <td>2</td>\n",
       "      <td>med</td>\n",
       "      <td>med</td>\n",
       "      <td>2</td>\n",
       "    </tr>\n",
       "  </tbody>\n",
       "</table>\n",
       "</div>"
      ],
      "text/plain": [
       "  buying  maint doors persons lug_boot safety  class\n",
       "0  vhigh  vhigh     2       2    small    low      2\n",
       "1  vhigh  vhigh     2       2    small    med      2\n",
       "2  vhigh  vhigh     2       2    small   high      2\n",
       "3  vhigh  vhigh     2       2      med    low      2\n",
       "4  vhigh  vhigh     2       2      med    med      2"
      ]
     },
     "execution_count": 6,
     "metadata": {},
     "output_type": "execute_result"
    }
   ],
   "source": [
    "dataframe['class'] = LabelEncoder().fit_transform(dataframe['class'])\n",
    "dataframe.head()"
   ]
  },
  {
   "cell_type": "code",
   "execution_count": 20,
   "id": "c59a7cd9",
   "metadata": {},
   "outputs": [
    {
     "name": "stdout",
     "output_type": "stream",
     "text": [
      "X_data shape (1728, 6) , Y_data Shape (1728, 1)\n"
     ]
    }
   ],
   "source": [
    "X_data, Y_data = dataframe[['buying','maint','doors','persons','lug_boot','safety']], dataframe[['class']] \n",
    "\n",
    "print(f'X_data shape {X_data.shape} , Y_data Shape {Y_data.shape}')\n"
   ]
  },
  {
   "cell_type": "code",
   "execution_count": 8,
   "id": "03378ff6",
   "metadata": {
    "code_folding": [
     3
    ]
   },
   "outputs": [
    {
     "data": {
      "text/html": [
       "<style>#sk-75c2b10b-1a2a-44d2-96d9-a5094245ae49 {color: black;background-color: white;}#sk-75c2b10b-1a2a-44d2-96d9-a5094245ae49 pre{padding: 0;}#sk-75c2b10b-1a2a-44d2-96d9-a5094245ae49 div.sk-toggleable {background-color: white;}#sk-75c2b10b-1a2a-44d2-96d9-a5094245ae49 label.sk-toggleable__label {cursor: pointer;display: block;width: 100%;margin-bottom: 0;padding: 0.2em 0.3em;box-sizing: border-box;text-align: center;}#sk-75c2b10b-1a2a-44d2-96d9-a5094245ae49 div.sk-toggleable__content {max-height: 0;max-width: 0;overflow: hidden;text-align: left;background-color: #f0f8ff;}#sk-75c2b10b-1a2a-44d2-96d9-a5094245ae49 div.sk-toggleable__content pre {margin: 0.2em;color: black;border-radius: 0.25em;background-color: #f0f8ff;}#sk-75c2b10b-1a2a-44d2-96d9-a5094245ae49 input.sk-toggleable__control:checked~div.sk-toggleable__content {max-height: 200px;max-width: 100%;overflow: auto;}#sk-75c2b10b-1a2a-44d2-96d9-a5094245ae49 div.sk-estimator input.sk-toggleable__control:checked~label.sk-toggleable__label {background-color: #d4ebff;}#sk-75c2b10b-1a2a-44d2-96d9-a5094245ae49 div.sk-label input.sk-toggleable__control:checked~label.sk-toggleable__label {background-color: #d4ebff;}#sk-75c2b10b-1a2a-44d2-96d9-a5094245ae49 input.sk-hidden--visually {border: 0;clip: rect(1px 1px 1px 1px);clip: rect(1px, 1px, 1px, 1px);height: 1px;margin: -1px;overflow: hidden;padding: 0;position: absolute;width: 1px;}#sk-75c2b10b-1a2a-44d2-96d9-a5094245ae49 div.sk-estimator {font-family: monospace;background-color: #f0f8ff;margin: 0.25em 0.25em;border: 1px dotted black;border-radius: 0.25em;box-sizing: border-box;}#sk-75c2b10b-1a2a-44d2-96d9-a5094245ae49 div.sk-estimator:hover {background-color: #d4ebff;}#sk-75c2b10b-1a2a-44d2-96d9-a5094245ae49 div.sk-parallel-item::after {content: \"\";width: 100%;border-bottom: 1px solid gray;flex-grow: 1;}#sk-75c2b10b-1a2a-44d2-96d9-a5094245ae49 div.sk-label:hover label.sk-toggleable__label {background-color: #d4ebff;}#sk-75c2b10b-1a2a-44d2-96d9-a5094245ae49 div.sk-serial::before {content: \"\";position: absolute;border-left: 1px solid gray;box-sizing: border-box;top: 2em;bottom: 0;left: 50%;}#sk-75c2b10b-1a2a-44d2-96d9-a5094245ae49 div.sk-serial {display: flex;flex-direction: column;align-items: center;background-color: white;}#sk-75c2b10b-1a2a-44d2-96d9-a5094245ae49 div.sk-item {z-index: 1;}#sk-75c2b10b-1a2a-44d2-96d9-a5094245ae49 div.sk-parallel {display: flex;align-items: stretch;justify-content: center;background-color: white;}#sk-75c2b10b-1a2a-44d2-96d9-a5094245ae49 div.sk-parallel-item {display: flex;flex-direction: column;position: relative;background-color: white;}#sk-75c2b10b-1a2a-44d2-96d9-a5094245ae49 div.sk-parallel-item:first-child::after {align-self: flex-end;width: 50%;}#sk-75c2b10b-1a2a-44d2-96d9-a5094245ae49 div.sk-parallel-item:last-child::after {align-self: flex-start;width: 50%;}#sk-75c2b10b-1a2a-44d2-96d9-a5094245ae49 div.sk-parallel-item:only-child::after {width: 0;}#sk-75c2b10b-1a2a-44d2-96d9-a5094245ae49 div.sk-dashed-wrapped {border: 1px dashed gray;margin: 0.2em;box-sizing: border-box;padding-bottom: 0.1em;background-color: white;position: relative;}#sk-75c2b10b-1a2a-44d2-96d9-a5094245ae49 div.sk-label label {font-family: monospace;font-weight: bold;background-color: white;display: inline-block;line-height: 1.2em;}#sk-75c2b10b-1a2a-44d2-96d9-a5094245ae49 div.sk-label-container {position: relative;z-index: 2;text-align: center;}#sk-75c2b10b-1a2a-44d2-96d9-a5094245ae49 div.sk-container {display: inline-block;position: relative;}</style><div id=\"sk-75c2b10b-1a2a-44d2-96d9-a5094245ae49\" class\"sk-top-container\"><div class=\"sk-container\"><div class=\"sk-item sk-dashed-wrapped\"><div class=\"sk-label-container\"><div class=\"sk-label sk-toggleable\"><input class=\"sk-toggleable__control sk-hidden--visually\" id=\"6b64905f-ff90-4ed0-b428-650d696197a9\" type=\"checkbox\" ><label class=\"sk-toggleable__label\" for=\"6b64905f-ff90-4ed0-b428-650d696197a9\">Pipeline</label><div class=\"sk-toggleable__content\"><pre>Pipeline(steps=[('trf',\n",
       "                 ColumnTransformer(transformers=[('x_trf',\n",
       "                                                  Pipeline(steps=[('selector',\n",
       "                                                                   DataFrameSelector(attribute_names=['buying',\n",
       "                                                                                                      'maint',\n",
       "                                                                                                      'doors',\n",
       "                                                                                                      'persons',\n",
       "                                                                                                      'lug_boot',\n",
       "                                                                                                      'safety'])),\n",
       "                                                                  ('imputer',\n",
       "                                                                   SimpleImputer(strategy='most_frequent')),\n",
       "                                                                  ('toLower',\n",
       "                                                                   FunctionTransformer(func=<numpy.vectorize object at 0x000002089BFF3E20>)),\n",
       "                                                                  ('encoder',\n",
       "                                                                   OrdinalEncoder())]),\n",
       "                                                  ['buying', 'maint', 'doors',\n",
       "                                                   'persons', 'lug_boot',\n",
       "                                                   'safety'])])),\n",
       "                ('calssifier', DecisionTreeClassifier(random_state=1024))])</pre></div></div></div><div class=\"sk-serial\"><div class=\"sk-item sk-dashed-wrapped\"><div class=\"sk-label-container\"><div class=\"sk-label sk-toggleable\"><input class=\"sk-toggleable__control sk-hidden--visually\" id=\"1cb317b4-c436-44d6-b783-bf3b2e57ea80\" type=\"checkbox\" ><label class=\"sk-toggleable__label\" for=\"1cb317b4-c436-44d6-b783-bf3b2e57ea80\">trf: ColumnTransformer</label><div class=\"sk-toggleable__content\"><pre>ColumnTransformer(transformers=[('x_trf',\n",
       "                                 Pipeline(steps=[('selector',\n",
       "                                                  DataFrameSelector(attribute_names=['buying',\n",
       "                                                                                     'maint',\n",
       "                                                                                     'doors',\n",
       "                                                                                     'persons',\n",
       "                                                                                     'lug_boot',\n",
       "                                                                                     'safety'])),\n",
       "                                                 ('imputer',\n",
       "                                                  SimpleImputer(strategy='most_frequent')),\n",
       "                                                 ('toLower',\n",
       "                                                  FunctionTransformer(func=<numpy.vectorize object at 0x000002089BFF3E20>)),\n",
       "                                                 ('encoder',\n",
       "                                                  OrdinalEncoder())]),\n",
       "                                 ['buying', 'maint', 'doors', 'persons',\n",
       "                                  'lug_boot', 'safety'])])</pre></div></div></div><div class=\"sk-parallel\"><div class=\"sk-parallel-item\"><div class=\"sk-item\"><div class=\"sk-label-container\"><div class=\"sk-label sk-toggleable\"><input class=\"sk-toggleable__control sk-hidden--visually\" id=\"da342837-d642-40ab-b407-dcfbe288086a\" type=\"checkbox\" ><label class=\"sk-toggleable__label\" for=\"da342837-d642-40ab-b407-dcfbe288086a\">x_trf</label><div class=\"sk-toggleable__content\"><pre>['buying', 'maint', 'doors', 'persons', 'lug_boot', 'safety']</pre></div></div></div><div class=\"sk-serial\"><div class=\"sk-item\"><div class=\"sk-serial\"><div class=\"sk-item\"><div class=\"sk-estimator sk-toggleable\"><input class=\"sk-toggleable__control sk-hidden--visually\" id=\"8fc454f0-dc2d-4ba5-8d79-11bbaf9e8c72\" type=\"checkbox\" ><label class=\"sk-toggleable__label\" for=\"8fc454f0-dc2d-4ba5-8d79-11bbaf9e8c72\">DataFrameSelector</label><div class=\"sk-toggleable__content\"><pre>DataFrameSelector(attribute_names=['buying', 'maint', 'doors', 'persons',\n",
       "                                   'lug_boot', 'safety'])</pre></div></div></div><div class=\"sk-item\"><div class=\"sk-estimator sk-toggleable\"><input class=\"sk-toggleable__control sk-hidden--visually\" id=\"8dfb32ce-8f75-42c9-8cee-9d7fb22c12e3\" type=\"checkbox\" ><label class=\"sk-toggleable__label\" for=\"8dfb32ce-8f75-42c9-8cee-9d7fb22c12e3\">SimpleImputer</label><div class=\"sk-toggleable__content\"><pre>SimpleImputer(strategy='most_frequent')</pre></div></div></div><div class=\"sk-item\"><div class=\"sk-estimator sk-toggleable\"><input class=\"sk-toggleable__control sk-hidden--visually\" id=\"dbc99a99-e1fe-4f53-b086-d2854cdd35f7\" type=\"checkbox\" ><label class=\"sk-toggleable__label\" for=\"dbc99a99-e1fe-4f53-b086-d2854cdd35f7\">FunctionTransformer</label><div class=\"sk-toggleable__content\"><pre>FunctionTransformer(func=<numpy.vectorize object at 0x000002089BFF3E20>)</pre></div></div></div><div class=\"sk-item\"><div class=\"sk-estimator sk-toggleable\"><input class=\"sk-toggleable__control sk-hidden--visually\" id=\"665af53d-5c8e-4478-8ada-4f96b8857615\" type=\"checkbox\" ><label class=\"sk-toggleable__label\" for=\"665af53d-5c8e-4478-8ada-4f96b8857615\">OrdinalEncoder</label><div class=\"sk-toggleable__content\"><pre>OrdinalEncoder()</pre></div></div></div></div></div></div></div></div></div></div><div class=\"sk-item\"><div class=\"sk-estimator sk-toggleable\"><input class=\"sk-toggleable__control sk-hidden--visually\" id=\"0ee5edb9-9b01-4a78-b6d1-f494486e51ea\" type=\"checkbox\" ><label class=\"sk-toggleable__label\" for=\"0ee5edb9-9b01-4a78-b6d1-f494486e51ea\">DecisionTreeClassifier</label><div class=\"sk-toggleable__content\"><pre>DecisionTreeClassifier(random_state=1024)</pre></div></div></div></div></div></div></div>"
      ],
      "text/plain": [
       "Pipeline(steps=[('trf',\n",
       "                 ColumnTransformer(transformers=[('x_trf',\n",
       "                                                  Pipeline(steps=[('selector',\n",
       "                                                                   DataFrameSelector(attribute_names=['buying',\n",
       "                                                                                                      'maint',\n",
       "                                                                                                      'doors',\n",
       "                                                                                                      'persons',\n",
       "                                                                                                      'lug_boot',\n",
       "                                                                                                      'safety'])),\n",
       "                                                                  ('imputer',\n",
       "                                                                   SimpleImputer(strategy='most_frequent')),\n",
       "                                                                  ('toLower',\n",
       "                                                                   FunctionTransformer(func=<numpy.vectorize object at 0x000002089BFF3E20>)),\n",
       "                                                                  ('encoder',\n",
       "                                                                   OrdinalEncoder())]),\n",
       "                                                  ['buying', 'maint', 'doors',\n",
       "                                                   'persons', 'lug_boot',\n",
       "                                                   'safety'])])),\n",
       "                ('calssifier', DecisionTreeClassifier(random_state=1024))])"
      ]
     },
     "execution_count": 8,
     "metadata": {},
     "output_type": "execute_result"
    }
   ],
   "source": [
    "def strip_then_lower_case(data):\n",
    "    return data.strip().lower()\n",
    "\n",
    "class DataFrameSelector(BaseEstimator, TransformerMixin):\n",
    "    def __init__(self, attribute_names):\n",
    "        self.attribute_names = attribute_names\n",
    "    def fit(self, X, y=None):\n",
    "        return self\n",
    "    def transform(self, X):\n",
    "        return X[self.attribute_names].values\n",
    "\n",
    "\n",
    "column_preprocessor = Pipeline(\n",
    "    [   \n",
    "        ('selector', DataFrameSelector(['buying','maint','doors','persons','lug_boot','safety'])),\n",
    "        (\"imputer\", SimpleImputer(strategy='most_frequent')),\n",
    "        (\n",
    "            \"toLower\",FunctionTransformer(\n",
    "                        np.vectorize(strip_then_lower_case), validate=False \n",
    "            ),\n",
    "        ),\n",
    "        (\"encoder\", OrdinalEncoder())        \n",
    "    ]\n",
    ")\n",
    "              \n",
    "\n",
    "column_transformers = ColumnTransformer(\n",
    "    transformers=[\n",
    "        (\"x_trf\", column_preprocessor,['buying','maint','doors','persons','lug_boot','safety']),\n",
    "    ],\n",
    "    remainder=\"drop\"\n",
    ")\n",
    "\n",
    "pipe = Pipeline(steps=[(\"trf\", column_transformers), (\"calssifier\", DecisionTreeClassifier(random_state=1024))])\n",
    "\n",
    "pipe"
   ]
  },
  {
   "cell_type": "code",
   "execution_count": 9,
   "id": "6968dfcb",
   "metadata": {},
   "outputs": [],
   "source": [
    "pre_processed_data = pipe.fit(dataframe, Y_data)\n"
   ]
  },
  {
   "cell_type": "code",
   "execution_count": 10,
   "id": "83599873",
   "metadata": {},
   "outputs": [
    {
     "name": "stdout",
     "output_type": "stream",
     "text": [
      "Fitting 5 folds for each of 48 candidates, totalling 240 fits\n"
     ]
    },
    {
     "data": {
      "text/html": [
       "<style>#sk-65ab197d-30ee-4f77-9373-bc62e1f29381 {color: black;background-color: white;}#sk-65ab197d-30ee-4f77-9373-bc62e1f29381 pre{padding: 0;}#sk-65ab197d-30ee-4f77-9373-bc62e1f29381 div.sk-toggleable {background-color: white;}#sk-65ab197d-30ee-4f77-9373-bc62e1f29381 label.sk-toggleable__label {cursor: pointer;display: block;width: 100%;margin-bottom: 0;padding: 0.2em 0.3em;box-sizing: border-box;text-align: center;}#sk-65ab197d-30ee-4f77-9373-bc62e1f29381 div.sk-toggleable__content {max-height: 0;max-width: 0;overflow: hidden;text-align: left;background-color: #f0f8ff;}#sk-65ab197d-30ee-4f77-9373-bc62e1f29381 div.sk-toggleable__content pre {margin: 0.2em;color: black;border-radius: 0.25em;background-color: #f0f8ff;}#sk-65ab197d-30ee-4f77-9373-bc62e1f29381 input.sk-toggleable__control:checked~div.sk-toggleable__content {max-height: 200px;max-width: 100%;overflow: auto;}#sk-65ab197d-30ee-4f77-9373-bc62e1f29381 div.sk-estimator input.sk-toggleable__control:checked~label.sk-toggleable__label {background-color: #d4ebff;}#sk-65ab197d-30ee-4f77-9373-bc62e1f29381 div.sk-label input.sk-toggleable__control:checked~label.sk-toggleable__label {background-color: #d4ebff;}#sk-65ab197d-30ee-4f77-9373-bc62e1f29381 input.sk-hidden--visually {border: 0;clip: rect(1px 1px 1px 1px);clip: rect(1px, 1px, 1px, 1px);height: 1px;margin: -1px;overflow: hidden;padding: 0;position: absolute;width: 1px;}#sk-65ab197d-30ee-4f77-9373-bc62e1f29381 div.sk-estimator {font-family: monospace;background-color: #f0f8ff;margin: 0.25em 0.25em;border: 1px dotted black;border-radius: 0.25em;box-sizing: border-box;}#sk-65ab197d-30ee-4f77-9373-bc62e1f29381 div.sk-estimator:hover {background-color: #d4ebff;}#sk-65ab197d-30ee-4f77-9373-bc62e1f29381 div.sk-parallel-item::after {content: \"\";width: 100%;border-bottom: 1px solid gray;flex-grow: 1;}#sk-65ab197d-30ee-4f77-9373-bc62e1f29381 div.sk-label:hover label.sk-toggleable__label {background-color: #d4ebff;}#sk-65ab197d-30ee-4f77-9373-bc62e1f29381 div.sk-serial::before {content: \"\";position: absolute;border-left: 1px solid gray;box-sizing: border-box;top: 2em;bottom: 0;left: 50%;}#sk-65ab197d-30ee-4f77-9373-bc62e1f29381 div.sk-serial {display: flex;flex-direction: column;align-items: center;background-color: white;}#sk-65ab197d-30ee-4f77-9373-bc62e1f29381 div.sk-item {z-index: 1;}#sk-65ab197d-30ee-4f77-9373-bc62e1f29381 div.sk-parallel {display: flex;align-items: stretch;justify-content: center;background-color: white;}#sk-65ab197d-30ee-4f77-9373-bc62e1f29381 div.sk-parallel-item {display: flex;flex-direction: column;position: relative;background-color: white;}#sk-65ab197d-30ee-4f77-9373-bc62e1f29381 div.sk-parallel-item:first-child::after {align-self: flex-end;width: 50%;}#sk-65ab197d-30ee-4f77-9373-bc62e1f29381 div.sk-parallel-item:last-child::after {align-self: flex-start;width: 50%;}#sk-65ab197d-30ee-4f77-9373-bc62e1f29381 div.sk-parallel-item:only-child::after {width: 0;}#sk-65ab197d-30ee-4f77-9373-bc62e1f29381 div.sk-dashed-wrapped {border: 1px dashed gray;margin: 0.2em;box-sizing: border-box;padding-bottom: 0.1em;background-color: white;position: relative;}#sk-65ab197d-30ee-4f77-9373-bc62e1f29381 div.sk-label label {font-family: monospace;font-weight: bold;background-color: white;display: inline-block;line-height: 1.2em;}#sk-65ab197d-30ee-4f77-9373-bc62e1f29381 div.sk-label-container {position: relative;z-index: 2;text-align: center;}#sk-65ab197d-30ee-4f77-9373-bc62e1f29381 div.sk-container {display: inline-block;position: relative;}</style><div id=\"sk-65ab197d-30ee-4f77-9373-bc62e1f29381\" class\"sk-top-container\"><div class=\"sk-container\"><div class=\"sk-item sk-dashed-wrapped\"><div class=\"sk-label-container\"><div class=\"sk-label sk-toggleable\"><input class=\"sk-toggleable__control sk-hidden--visually\" id=\"50806434-e5bf-4b77-8bab-a4b49400e385\" type=\"checkbox\" ><label class=\"sk-toggleable__label\" for=\"50806434-e5bf-4b77-8bab-a4b49400e385\">GridSearchCV</label><div class=\"sk-toggleable__content\"><pre>GridSearchCV(cv=5,\n",
       "             estimator=Pipeline(steps=[('trf',\n",
       "                                        ColumnTransformer(transformers=[('x_trf',\n",
       "                                                                         Pipeline(steps=[('selector',\n",
       "                                                                                          DataFrameSelector(attribute_names=['buying',\n",
       "                                                                                                                             'maint',\n",
       "                                                                                                                             'doors',\n",
       "                                                                                                                             'persons',\n",
       "                                                                                                                             'lug_boot',\n",
       "                                                                                                                             'safety'])),\n",
       "                                                                                         ('imputer',\n",
       "                                                                                          SimpleImputer(strategy='most_frequent')),\n",
       "                                                                                         ('toLower',\n",
       "                                                                                          FunctionTransformer(func=<numpy.vectorize object at 0x000002089BFF3E20>)),\n",
       "                                                                                         ('encoder',\n",
       "                                                                                          OrdinalEncoder())]),\n",
       "                                                                         ['buying',\n",
       "                                                                          'maint',\n",
       "                                                                          'doors',\n",
       "                                                                          'persons',\n",
       "                                                                          'lug_boot',\n",
       "                                                                          'safety'])])),\n",
       "                                       ('calssifier',\n",
       "                                        DecisionTreeClassifier(random_state=1024))]),\n",
       "             param_grid={'calssifier__ccp_alpha': [0.1, 0.01, 0.001],\n",
       "                         'calssifier__criterion': ['gini', 'entropy'],\n",
       "                         'calssifier__max_depth': [2, 3, 4, 5, 6, 7, 8, 9]},\n",
       "             verbose=True)</pre></div></div></div><div class=\"sk-parallel\"><div class=\"sk-parallel-item\"><div class=\"sk-item\"><div class=\"sk-serial\"><div class=\"sk-item\"><div class=\"sk-serial\"><div class=\"sk-item sk-dashed-wrapped\"><div class=\"sk-label-container\"><div class=\"sk-label sk-toggleable\"><input class=\"sk-toggleable__control sk-hidden--visually\" id=\"a53644bb-0308-4852-920f-551d1fd6cdc6\" type=\"checkbox\" ><label class=\"sk-toggleable__label\" for=\"a53644bb-0308-4852-920f-551d1fd6cdc6\">trf: ColumnTransformer</label><div class=\"sk-toggleable__content\"><pre>ColumnTransformer(transformers=[('x_trf',\n",
       "                                 Pipeline(steps=[('selector',\n",
       "                                                  DataFrameSelector(attribute_names=['buying',\n",
       "                                                                                     'maint',\n",
       "                                                                                     'doors',\n",
       "                                                                                     'persons',\n",
       "                                                                                     'lug_boot',\n",
       "                                                                                     'safety'])),\n",
       "                                                 ('imputer',\n",
       "                                                  SimpleImputer(strategy='most_frequent')),\n",
       "                                                 ('toLower',\n",
       "                                                  FunctionTransformer(func=<numpy.vectorize object at 0x000002089BFF3E20>)),\n",
       "                                                 ('encoder',\n",
       "                                                  OrdinalEncoder())]),\n",
       "                                 ['buying', 'maint', 'doors', 'persons',\n",
       "                                  'lug_boot', 'safety'])])</pre></div></div></div><div class=\"sk-parallel\"><div class=\"sk-parallel-item\"><div class=\"sk-item\"><div class=\"sk-label-container\"><div class=\"sk-label sk-toggleable\"><input class=\"sk-toggleable__control sk-hidden--visually\" id=\"b28bebee-e6ba-4e02-bf6c-88d776151be7\" type=\"checkbox\" ><label class=\"sk-toggleable__label\" for=\"b28bebee-e6ba-4e02-bf6c-88d776151be7\">x_trf</label><div class=\"sk-toggleable__content\"><pre>['buying', 'maint', 'doors', 'persons', 'lug_boot', 'safety']</pre></div></div></div><div class=\"sk-serial\"><div class=\"sk-item\"><div class=\"sk-serial\"><div class=\"sk-item\"><div class=\"sk-estimator sk-toggleable\"><input class=\"sk-toggleable__control sk-hidden--visually\" id=\"d2d2ab01-3dca-4450-8755-be578f374217\" type=\"checkbox\" ><label class=\"sk-toggleable__label\" for=\"d2d2ab01-3dca-4450-8755-be578f374217\">DataFrameSelector</label><div class=\"sk-toggleable__content\"><pre>DataFrameSelector(attribute_names=['buying', 'maint', 'doors', 'persons',\n",
       "                                   'lug_boot', 'safety'])</pre></div></div></div><div class=\"sk-item\"><div class=\"sk-estimator sk-toggleable\"><input class=\"sk-toggleable__control sk-hidden--visually\" id=\"cdb0a2f2-6215-4f64-9b2b-0621daa51002\" type=\"checkbox\" ><label class=\"sk-toggleable__label\" for=\"cdb0a2f2-6215-4f64-9b2b-0621daa51002\">SimpleImputer</label><div class=\"sk-toggleable__content\"><pre>SimpleImputer(strategy='most_frequent')</pre></div></div></div><div class=\"sk-item\"><div class=\"sk-estimator sk-toggleable\"><input class=\"sk-toggleable__control sk-hidden--visually\" id=\"cfdb41d7-c729-4e97-82b0-beead89b9b9b\" type=\"checkbox\" ><label class=\"sk-toggleable__label\" for=\"cfdb41d7-c729-4e97-82b0-beead89b9b9b\">FunctionTransformer</label><div class=\"sk-toggleable__content\"><pre>FunctionTransformer(func=<numpy.vectorize object at 0x000002089BFF3E20>)</pre></div></div></div><div class=\"sk-item\"><div class=\"sk-estimator sk-toggleable\"><input class=\"sk-toggleable__control sk-hidden--visually\" id=\"a92e5de7-a475-4e56-9f3e-f248ba0437d5\" type=\"checkbox\" ><label class=\"sk-toggleable__label\" for=\"a92e5de7-a475-4e56-9f3e-f248ba0437d5\">OrdinalEncoder</label><div class=\"sk-toggleable__content\"><pre>OrdinalEncoder()</pre></div></div></div></div></div></div></div></div></div></div><div class=\"sk-item\"><div class=\"sk-estimator sk-toggleable\"><input class=\"sk-toggleable__control sk-hidden--visually\" id=\"17a1d35a-4a7a-47bf-bb2a-cae173a519c6\" type=\"checkbox\" ><label class=\"sk-toggleable__label\" for=\"17a1d35a-4a7a-47bf-bb2a-cae173a519c6\">DecisionTreeClassifier</label><div class=\"sk-toggleable__content\"><pre>DecisionTreeClassifier(random_state=1024)</pre></div></div></div></div></div></div></div></div></div></div></div></div>"
      ],
      "text/plain": [
       "GridSearchCV(cv=5,\n",
       "             estimator=Pipeline(steps=[('trf',\n",
       "                                        ColumnTransformer(transformers=[('x_trf',\n",
       "                                                                         Pipeline(steps=[('selector',\n",
       "                                                                                          DataFrameSelector(attribute_names=['buying',\n",
       "                                                                                                                             'maint',\n",
       "                                                                                                                             'doors',\n",
       "                                                                                                                             'persons',\n",
       "                                                                                                                             'lug_boot',\n",
       "                                                                                                                             'safety'])),\n",
       "                                                                                         ('imputer',\n",
       "                                                                                          SimpleImputer(strategy='most_frequent')),\n",
       "                                                                                         ('toLower',\n",
       "                                                                                          FunctionTransformer(func=<numpy.vectorize object at 0x000002089BFF3E20>)),\n",
       "                                                                                         ('encoder',\n",
       "                                                                                          OrdinalEncoder())]),\n",
       "                                                                         ['buying',\n",
       "                                                                          'maint',\n",
       "                                                                          'doors',\n",
       "                                                                          'persons',\n",
       "                                                                          'lug_boot',\n",
       "                                                                          'safety'])])),\n",
       "                                       ('calssifier',\n",
       "                                        DecisionTreeClassifier(random_state=1024))]),\n",
       "             param_grid={'calssifier__ccp_alpha': [0.1, 0.01, 0.001],\n",
       "                         'calssifier__criterion': ['gini', 'entropy'],\n",
       "                         'calssifier__max_depth': [2, 3, 4, 5, 6, 7, 8, 9]},\n",
       "             verbose=True)"
      ]
     },
     "execution_count": 10,
     "metadata": {},
     "output_type": "execute_result"
    }
   ],
   "source": [
    "param_grid = {'calssifier__ccp_alpha': [0.1, .01, .001],\n",
    "              'calssifier__max_depth' : [2,3,4,5,6, 7, 8, 9],\n",
    "              'calssifier__criterion' :['gini', 'entropy']\n",
    "             }\n",
    "grid_search = GridSearchCV(estimator=pipe, param_grid=param_grid, cv=5, verbose=True)\n",
    "\n",
    "grid_search.fit(dataframe, Y_data)"
   ]
  },
  {
   "cell_type": "code",
   "execution_count": 22,
   "id": "3e99b179",
   "metadata": {},
   "outputs": [
    {
     "name": "stdout",
     "output_type": "stream",
     "text": [
      "Best Number Of Components: 0.001\n",
      "9\n"
     ]
    },
    {
     "data": {
      "text/html": [
       "<style>#sk-11503628-e4e0-40fa-8000-5dad7f5fc903 {color: black;background-color: white;}#sk-11503628-e4e0-40fa-8000-5dad7f5fc903 pre{padding: 0;}#sk-11503628-e4e0-40fa-8000-5dad7f5fc903 div.sk-toggleable {background-color: white;}#sk-11503628-e4e0-40fa-8000-5dad7f5fc903 label.sk-toggleable__label {cursor: pointer;display: block;width: 100%;margin-bottom: 0;padding: 0.2em 0.3em;box-sizing: border-box;text-align: center;}#sk-11503628-e4e0-40fa-8000-5dad7f5fc903 div.sk-toggleable__content {max-height: 0;max-width: 0;overflow: hidden;text-align: left;background-color: #f0f8ff;}#sk-11503628-e4e0-40fa-8000-5dad7f5fc903 div.sk-toggleable__content pre {margin: 0.2em;color: black;border-radius: 0.25em;background-color: #f0f8ff;}#sk-11503628-e4e0-40fa-8000-5dad7f5fc903 input.sk-toggleable__control:checked~div.sk-toggleable__content {max-height: 200px;max-width: 100%;overflow: auto;}#sk-11503628-e4e0-40fa-8000-5dad7f5fc903 div.sk-estimator input.sk-toggleable__control:checked~label.sk-toggleable__label {background-color: #d4ebff;}#sk-11503628-e4e0-40fa-8000-5dad7f5fc903 div.sk-label input.sk-toggleable__control:checked~label.sk-toggleable__label {background-color: #d4ebff;}#sk-11503628-e4e0-40fa-8000-5dad7f5fc903 input.sk-hidden--visually {border: 0;clip: rect(1px 1px 1px 1px);clip: rect(1px, 1px, 1px, 1px);height: 1px;margin: -1px;overflow: hidden;padding: 0;position: absolute;width: 1px;}#sk-11503628-e4e0-40fa-8000-5dad7f5fc903 div.sk-estimator {font-family: monospace;background-color: #f0f8ff;margin: 0.25em 0.25em;border: 1px dotted black;border-radius: 0.25em;box-sizing: border-box;}#sk-11503628-e4e0-40fa-8000-5dad7f5fc903 div.sk-estimator:hover {background-color: #d4ebff;}#sk-11503628-e4e0-40fa-8000-5dad7f5fc903 div.sk-parallel-item::after {content: \"\";width: 100%;border-bottom: 1px solid gray;flex-grow: 1;}#sk-11503628-e4e0-40fa-8000-5dad7f5fc903 div.sk-label:hover label.sk-toggleable__label {background-color: #d4ebff;}#sk-11503628-e4e0-40fa-8000-5dad7f5fc903 div.sk-serial::before {content: \"\";position: absolute;border-left: 1px solid gray;box-sizing: border-box;top: 2em;bottom: 0;left: 50%;}#sk-11503628-e4e0-40fa-8000-5dad7f5fc903 div.sk-serial {display: flex;flex-direction: column;align-items: center;background-color: white;}#sk-11503628-e4e0-40fa-8000-5dad7f5fc903 div.sk-item {z-index: 1;}#sk-11503628-e4e0-40fa-8000-5dad7f5fc903 div.sk-parallel {display: flex;align-items: stretch;justify-content: center;background-color: white;}#sk-11503628-e4e0-40fa-8000-5dad7f5fc903 div.sk-parallel-item {display: flex;flex-direction: column;position: relative;background-color: white;}#sk-11503628-e4e0-40fa-8000-5dad7f5fc903 div.sk-parallel-item:first-child::after {align-self: flex-end;width: 50%;}#sk-11503628-e4e0-40fa-8000-5dad7f5fc903 div.sk-parallel-item:last-child::after {align-self: flex-start;width: 50%;}#sk-11503628-e4e0-40fa-8000-5dad7f5fc903 div.sk-parallel-item:only-child::after {width: 0;}#sk-11503628-e4e0-40fa-8000-5dad7f5fc903 div.sk-dashed-wrapped {border: 1px dashed gray;margin: 0.2em;box-sizing: border-box;padding-bottom: 0.1em;background-color: white;position: relative;}#sk-11503628-e4e0-40fa-8000-5dad7f5fc903 div.sk-label label {font-family: monospace;font-weight: bold;background-color: white;display: inline-block;line-height: 1.2em;}#sk-11503628-e4e0-40fa-8000-5dad7f5fc903 div.sk-label-container {position: relative;z-index: 2;text-align: center;}#sk-11503628-e4e0-40fa-8000-5dad7f5fc903 div.sk-container {display: inline-block;position: relative;}</style><div id=\"sk-11503628-e4e0-40fa-8000-5dad7f5fc903\" class\"sk-top-container\"><div class=\"sk-container\"><div class=\"sk-item sk-dashed-wrapped\"><div class=\"sk-label-container\"><div class=\"sk-label sk-toggleable\"><input class=\"sk-toggleable__control sk-hidden--visually\" id=\"c9ff0ef0-8947-4777-8d5b-35943119cf50\" type=\"checkbox\" ><label class=\"sk-toggleable__label\" for=\"c9ff0ef0-8947-4777-8d5b-35943119cf50\">Pipeline</label><div class=\"sk-toggleable__content\"><pre>Pipeline(steps=[('trf',\n",
       "                 ColumnTransformer(transformers=[('x_trf',\n",
       "                                                  Pipeline(steps=[('selector',\n",
       "                                                                   DataFrameSelector(attribute_names=['buying',\n",
       "                                                                                                      'maint',\n",
       "                                                                                                      'doors',\n",
       "                                                                                                      'persons',\n",
       "                                                                                                      'lug_boot',\n",
       "                                                                                                      'safety'])),\n",
       "                                                                  ('imputer',\n",
       "                                                                   SimpleImputer(strategy='most_frequent')),\n",
       "                                                                  ('toLower',\n",
       "                                                                   FunctionTransformer(func=<numpy.vectorize object at 0x000002089C0A28E0>)),\n",
       "                                                                  ('encoder',\n",
       "                                                                   OrdinalEncoder())]),\n",
       "                                                  ['buying', 'maint', 'doors',\n",
       "                                                   'persons', 'lug_boot',\n",
       "                                                   'safety'])])),\n",
       "                ('calssifier',\n",
       "                 DecisionTreeClassifier(ccp_alpha=0.001, criterion='entropy',\n",
       "                                        max_depth=9, random_state=1024))])</pre></div></div></div><div class=\"sk-serial\"><div class=\"sk-item sk-dashed-wrapped\"><div class=\"sk-label-container\"><div class=\"sk-label sk-toggleable\"><input class=\"sk-toggleable__control sk-hidden--visually\" id=\"710b82aa-f8df-4e7d-83f9-d1a39ff9be3c\" type=\"checkbox\" ><label class=\"sk-toggleable__label\" for=\"710b82aa-f8df-4e7d-83f9-d1a39ff9be3c\">trf: ColumnTransformer</label><div class=\"sk-toggleable__content\"><pre>ColumnTransformer(transformers=[('x_trf',\n",
       "                                 Pipeline(steps=[('selector',\n",
       "                                                  DataFrameSelector(attribute_names=['buying',\n",
       "                                                                                     'maint',\n",
       "                                                                                     'doors',\n",
       "                                                                                     'persons',\n",
       "                                                                                     'lug_boot',\n",
       "                                                                                     'safety'])),\n",
       "                                                 ('imputer',\n",
       "                                                  SimpleImputer(strategy='most_frequent')),\n",
       "                                                 ('toLower',\n",
       "                                                  FunctionTransformer(func=<numpy.vectorize object at 0x000002089C0A28E0>)),\n",
       "                                                 ('encoder',\n",
       "                                                  OrdinalEncoder())]),\n",
       "                                 ['buying', 'maint', 'doors', 'persons',\n",
       "                                  'lug_boot', 'safety'])])</pre></div></div></div><div class=\"sk-parallel\"><div class=\"sk-parallel-item\"><div class=\"sk-item\"><div class=\"sk-label-container\"><div class=\"sk-label sk-toggleable\"><input class=\"sk-toggleable__control sk-hidden--visually\" id=\"2852ee48-5ba0-4ba9-9d0c-5492700ae1ba\" type=\"checkbox\" ><label class=\"sk-toggleable__label\" for=\"2852ee48-5ba0-4ba9-9d0c-5492700ae1ba\">x_trf</label><div class=\"sk-toggleable__content\"><pre>['buying', 'maint', 'doors', 'persons', 'lug_boot', 'safety']</pre></div></div></div><div class=\"sk-serial\"><div class=\"sk-item\"><div class=\"sk-serial\"><div class=\"sk-item\"><div class=\"sk-estimator sk-toggleable\"><input class=\"sk-toggleable__control sk-hidden--visually\" id=\"557ede01-d3a3-45b7-a6ca-faab428bb2fe\" type=\"checkbox\" ><label class=\"sk-toggleable__label\" for=\"557ede01-d3a3-45b7-a6ca-faab428bb2fe\">DataFrameSelector</label><div class=\"sk-toggleable__content\"><pre>DataFrameSelector(attribute_names=['buying', 'maint', 'doors', 'persons',\n",
       "                                   'lug_boot', 'safety'])</pre></div></div></div><div class=\"sk-item\"><div class=\"sk-estimator sk-toggleable\"><input class=\"sk-toggleable__control sk-hidden--visually\" id=\"78e7b8dc-4571-4ce8-bb2b-7fe8969e3695\" type=\"checkbox\" ><label class=\"sk-toggleable__label\" for=\"78e7b8dc-4571-4ce8-bb2b-7fe8969e3695\">SimpleImputer</label><div class=\"sk-toggleable__content\"><pre>SimpleImputer(strategy='most_frequent')</pre></div></div></div><div class=\"sk-item\"><div class=\"sk-estimator sk-toggleable\"><input class=\"sk-toggleable__control sk-hidden--visually\" id=\"ba20521c-06af-4b6c-84eb-f7a09a965f77\" type=\"checkbox\" ><label class=\"sk-toggleable__label\" for=\"ba20521c-06af-4b6c-84eb-f7a09a965f77\">FunctionTransformer</label><div class=\"sk-toggleable__content\"><pre>FunctionTransformer(func=<numpy.vectorize object at 0x000002089C0A28E0>)</pre></div></div></div><div class=\"sk-item\"><div class=\"sk-estimator sk-toggleable\"><input class=\"sk-toggleable__control sk-hidden--visually\" id=\"530756b3-ef26-4290-8790-45775f6270c4\" type=\"checkbox\" ><label class=\"sk-toggleable__label\" for=\"530756b3-ef26-4290-8790-45775f6270c4\">OrdinalEncoder</label><div class=\"sk-toggleable__content\"><pre>OrdinalEncoder()</pre></div></div></div></div></div></div></div></div></div></div><div class=\"sk-item\"><div class=\"sk-estimator sk-toggleable\"><input class=\"sk-toggleable__control sk-hidden--visually\" id=\"95e1dffd-c7f7-4562-a165-a00c5b37ae94\" type=\"checkbox\" ><label class=\"sk-toggleable__label\" for=\"95e1dffd-c7f7-4562-a165-a00c5b37ae94\">DecisionTreeClassifier</label><div class=\"sk-toggleable__content\"><pre>DecisionTreeClassifier(ccp_alpha=0.001, criterion='entropy', max_depth=9,\n",
       "                       random_state=1024)</pre></div></div></div></div></div></div></div>"
      ],
      "text/plain": [
       "Pipeline(steps=[('trf',\n",
       "                 ColumnTransformer(transformers=[('x_trf',\n",
       "                                                  Pipeline(steps=[('selector',\n",
       "                                                                   DataFrameSelector(attribute_names=['buying',\n",
       "                                                                                                      'maint',\n",
       "                                                                                                      'doors',\n",
       "                                                                                                      'persons',\n",
       "                                                                                                      'lug_boot',\n",
       "                                                                                                      'safety'])),\n",
       "                                                                  ('imputer',\n",
       "                                                                   SimpleImputer(strategy='most_frequent')),\n",
       "                                                                  ('toLower',\n",
       "                                                                   FunctionTransformer(func=<numpy.vectorize object at 0x000002089C0A28E0>)),\n",
       "                                                                  ('encoder',\n",
       "                                                                   OrdinalEncoder())]),\n",
       "                                                  ['buying', 'maint', 'doors',\n",
       "                                                   'persons', 'lug_boot',\n",
       "                                                   'safety'])])),\n",
       "                ('calssifier',\n",
       "                 DecisionTreeClassifier(ccp_alpha=0.001, criterion='entropy',\n",
       "                                        max_depth=9, random_state=1024))])"
      ]
     },
     "execution_count": 22,
     "metadata": {},
     "output_type": "execute_result"
    }
   ],
   "source": [
    "print(\"Best Number Of Components:\", grid_search.best_estimator_.get_params()[\"calssifier__ccp_alpha\"])\n",
    "print(grid_search.best_estimator_.get_params()[\"calssifier__max_depth\"])\n",
    "\n",
    "final_model = grid_search.best_estimator_\n",
    "final_model"
   ]
  },
  {
   "cell_type": "code",
   "execution_count": null,
   "id": "b53d2b45",
   "metadata": {},
   "outputs": [],
   "source": []
  }
 ],
 "metadata": {
  "kernelspec": {
   "display_name": "Python 3",
   "language": "python",
   "name": "python3"
  },
  "language_info": {
   "codemirror_mode": {
    "name": "ipython",
    "version": 3
   },
   "file_extension": ".py",
   "mimetype": "text/x-python",
   "name": "python",
   "nbconvert_exporter": "python",
   "pygments_lexer": "ipython3",
   "version": "3.9.5"
  },
  "toc": {
   "base_numbering": 1,
   "nav_menu": {},
   "number_sections": true,
   "sideBar": true,
   "skip_h1_title": false,
   "title_cell": "Table of Contents",
   "title_sidebar": "Contents",
   "toc_cell": false,
   "toc_position": {},
   "toc_section_display": true,
   "toc_window_display": false
  }
 },
 "nbformat": 4,
 "nbformat_minor": 5
}
